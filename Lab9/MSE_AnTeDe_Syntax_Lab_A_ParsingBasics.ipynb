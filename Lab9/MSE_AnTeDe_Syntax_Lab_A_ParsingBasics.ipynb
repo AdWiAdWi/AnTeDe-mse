{
  "cells": [
    {
      "cell_type": "markdown",
      "metadata": {
        "id": "v1aosbZSjM-_"
      },
      "source": [
        "# AnTeDe Lab 12a: Using Syntax Parsers \n",
        "\n",
        "## Session goal\n",
        "The goal of this session is to help you familiarize with syntax parsing."
      ]
    },
    {
      "cell_type": "markdown",
      "metadata": {
        "id": "vWYuQxbNjM_A"
      },
      "source": [
        "The following cell will start your local CoreNLP server."
      ]
    },
    {
      "cell_type": "code",
      "execution_count": 6,
      "metadata": {
        "id": "RDY2IrchjM_B"
      },
      "outputs": [],
      "source": [
        "import os\n",
        "\n",
        "def unzip_corenlp(zipped):    \n",
        "    import zipfile\n",
        "    with zipfile.ZipFile(zipped,\"r\") as zip_ref:\n",
        "        zip_ref.extractall(\".\") \n",
        "        \n",
        "home = os.getcwd()      "
      ]
    },
    {
      "cell_type": "code",
      "execution_count": 7,
      "metadata": {
        "colab": {
          "base_uri": "https://localhost:8080/"
        },
        "id": "6lDgE3JJjM_E",
        "outputId": "7b3d1205-826e-4314-d8cf-69f157b80e0e"
      },
      "outputs": [
        {
          "output_type": "stream",
          "name": "stdout",
          "text": [
            "CoreNLP seems to be there!\n"
          ]
        }
      ],
      "source": [
        "my_port = 9001\n",
        "\n",
        "base_url = 'http://nlp.stanford.edu/software/'\n",
        "corenlp_filename='stanford-corenlp-4.0.0'\n",
        "corenlp_file = corenlp_filename+'.zip'\n",
        "corenlp_url = base_url + corenlp_file\n",
        "\n",
        "def download_from_url(url, save_path, chunk_size=128):\n",
        "    import requests\n",
        "    r = requests.get(url, stream=True)\n",
        "    with open(save_path, 'wb') as fd:\n",
        "        for chunk in r.iter_content(chunk_size=chunk_size):\n",
        "            fd.write(chunk)\n",
        "\n",
        "if corenlp_filename not in os.listdir(home):\n",
        "    download_from_url(corenlp_url, os.path.join(home, corenlp_file))\n",
        "else:\n",
        "    print ('CoreNLP seems to be there!')\n",
        "    \n",
        "path_to_file = os.path.join(os.getcwd(), corenlp_filename+'.'+'zip')\n",
        "unzip_corenlp(path_to_file)\n",
        "            "
      ]
    },
    {
      "cell_type": "code",
      "execution_count": 8,
      "metadata": {
        "id": "ysKs_UxzjM_G"
      },
      "outputs": [],
      "source": [
        "def start_corenlp_server():\n",
        "    path=os.path.join(home, corenlp_filename)\n",
        "    os.chdir(path)\n",
        "    command = r'java -mx4g -cp \"*\" edu.stanford.nlp.pipeline.StanfordCoreNLPServer -annotators \"tokenize,ssplit,pos,lemma,parse,sentiment\" -port '+str(my_port)+' -timeout 30000'\n",
        "    os.system (command+\" &\")\n",
        "    os.chdir(home) \n",
        "    \n",
        "start_corenlp_server()"
      ]
    },
    {
      "cell_type": "markdown",
      "metadata": {
        "id": "Ux20W22HjM_J"
      },
      "source": [
        "The following cell will enable you to use the CoreNLP tokenizer and PoS tagger."
      ]
    },
    {
      "cell_type": "code",
      "execution_count": 4,
      "metadata": {
        "colab": {
          "base_uri": "https://localhost:8080/"
        },
        "id": "g7WCejE3jM_J",
        "outputId": "5228b63b-04ec-41e8-891f-d7aa6db3798f",
        "scrolled": true
      },
      "outputs": [
        {
          "output_type": "stream",
          "name": "stdout",
          "text": [
            "Collecting stanfordcorenlp\n",
            "  Downloading stanfordcorenlp-3.9.1.1-py2.py3-none-any.whl (5.7 kB)\n",
            "Requirement already satisfied: psutil in /usr/local/lib/python3.7/dist-packages (from stanfordcorenlp) (5.4.8)\n",
            "Requirement already satisfied: requests in /usr/local/lib/python3.7/dist-packages (from stanfordcorenlp) (2.23.0)\n",
            "Requirement already satisfied: certifi>=2017.4.17 in /usr/local/lib/python3.7/dist-packages (from requests->stanfordcorenlp) (2021.10.8)\n",
            "Requirement already satisfied: chardet<4,>=3.0.2 in /usr/local/lib/python3.7/dist-packages (from requests->stanfordcorenlp) (3.0.4)\n",
            "Requirement already satisfied: idna<3,>=2.5 in /usr/local/lib/python3.7/dist-packages (from requests->stanfordcorenlp) (2.10)\n",
            "Requirement already satisfied: urllib3!=1.25.0,!=1.25.1,<1.26,>=1.21.1 in /usr/local/lib/python3.7/dist-packages (from requests->stanfordcorenlp) (1.24.3)\n",
            "Installing collected packages: stanfordcorenlp\n",
            "Successfully installed stanfordcorenlp-3.9.1.1\n"
          ]
        }
      ],
      "source": [
        "! pip install stanfordcorenlp\n",
        "from stanfordcorenlp import StanfordCoreNLP\n",
        "from nltk.tree import *\n",
        "\n",
        "class StanfordNLP:\n",
        "    \n",
        "    def __init__(self, host='http://localhost', port=my_port):\n",
        "        self.nlp = StanfordCoreNLP(host, port=port,\n",
        "                                   timeout=30000)  # , quiet=False, logging_level=logging.DEBUG)\n",
        "        self.props = {\n",
        "            #'annotators': 'tokenize,ssplit,pos,lemma,ner,parse,depparse,dcoref,relation',\n",
        "            'annotators': 'tokenize,ssplit,pos,lemma,ner,parse,depparse',\n",
        "            'pipelineLanguage': 'en',\n",
        "            'outputFormat': 'json'\n",
        "        }\n",
        "\n",
        "    def word_tokenize(self, sentence):\n",
        "        return self.nlp.word_tokenize(sentence)\n",
        "\n",
        "    def pos(self, sentence):\n",
        "        return self.nlp.pos_tag(sentence)\n",
        "    \n",
        "    def parse(self, sentence):\n",
        "        \n",
        "        p = self.nlp.parse(sentence)\n",
        "        Tree.fromstring(p).pretty_print()\n",
        "        \n",
        "        return p\n",
        "\n",
        "    def dependency_parse(self, sentence):\n",
        "        p = self.nlp.dependency_parse(sentence)\n",
        "        print (p)\n",
        "        \n",
        "        return p\n",
        "        \n",
        "    "
      ]
    },
    {
      "cell_type": "code",
      "execution_count": 5,
      "metadata": {
        "colab": {
          "base_uri": "https://localhost:8080/"
        },
        "id": "r8If0qDajM_M",
        "outputId": "c7835261-8a85-436e-d0b3-21f651285d04"
      },
      "outputs": [
        {
          "output_type": "stream",
          "name": "stdout",
          "text": [
            "             ROOT                \n",
            "              |                   \n",
            "              S                  \n",
            "  ____________|________________   \n",
            " |            VP               | \n",
            " |     _______|______          |  \n",
            " NP   |              NP        | \n",
            " |    |        ______|____     |  \n",
            "NNP  VBZ      NN         NNS   . \n",
            " |    |       |           |    |  \n",
            "Fed raises interest     rates  . \n",
            "\n",
            "(ROOT\n",
            "  (S\n",
            "    (NP (NNP Fed))\n",
            "    (VP (VBZ raises)\n",
            "      (NP (NN interest) (NNS rates)))\n",
            "    (. .)))\n"
          ]
        }
      ],
      "source": [
        "s = StanfordNLP()\n",
        "\n",
        "sentence='Fed raises interest rates.'\n",
        "print (s.parse(sentence))"
      ]
    },
    {
      "cell_type": "code",
      "execution_count": 9,
      "metadata": {
        "colab": {
          "base_uri": "https://localhost:8080/"
        },
        "id": "88sIEJvPjM_O",
        "outputId": "c5469e6b-84fd-4435-998f-30f19a1eca13",
        "scrolled": true
      },
      "outputs": [
        {
          "output_type": "stream",
          "name": "stdout",
          "text": [
            "                                  ROOT                        \n",
            "                                   |                           \n",
            "                                   S                          \n",
            "      _____________________________|________________________   \n",
            "     |                             VP                       | \n",
            "     |              _______________|__________              |  \n",
            "     |             |         |                PP            | \n",
            "     |             |         |             ___|____         |  \n",
            "     NP            |         NP           |        NP       | \n",
            "  ___|______       |     ____|_____       |    ____|___     |  \n",
            " DT         NN    VBZ  PRP$        NN     IN PRP$      NN   . \n",
            " |          |      |    |          |      |   |        |    |  \n",
            "The     president eats her      sandwich  at her      desk  . \n",
            "\n"
          ]
        }
      ],
      "source": [
        "\n",
        "sentence='The president eats her sandwich at her desk.'\n",
        "\n",
        "r=s.parse(sentence)\n"
      ]
    },
    {
      "cell_type": "code",
      "execution_count": 10,
      "metadata": {
        "colab": {
          "base_uri": "https://localhost:8080/"
        },
        "id": "OUQFeNMSjM_R",
        "outputId": "dd37a87b-29fc-4ac1-8689-40438d73ff85"
      },
      "outputs": [
        {
          "output_type": "stream",
          "name": "stdout",
          "text": [
            "                                               ROOT                                                            \n",
            "                                                |                                                               \n",
            "                                                S                                                              \n",
            "  ______________________________________________|____________________________________________________________   \n",
            " |           VP                                                                                              | \n",
            " |    _______|_____________________                                                                          |  \n",
            " |   |       |                     PP                                                                        | \n",
            " |   |       |                  ___|_______                                                                  |  \n",
            " |   |       |                 |           NP                                                                | \n",
            " |   |       |                 |        ___|___________                                                      |  \n",
            " |   |       |                 |       |               PP                                                    | \n",
            " |   |       |                 |       |         ______|_____                                                |  \n",
            " |   |       |                 |       |        |            NP                                              | \n",
            " |   |       |                 |       |        |       _____|____                                           |  \n",
            " |   |       |                 |       |        |      |         SBAR                                        | \n",
            " |   |       |                 |       |        |      |      ____|____                                      |  \n",
            " |   |       |                 |       |        |      |     |         S                                     | \n",
            " |   |       |                 |       |        |      |     |     ____|_________                            |  \n",
            " |   |       |                 |       |        |      |     |    |              VP                          | \n",
            " |   |       |                 |       |        |      |     |    |     _________|_______                    |  \n",
            " |   |       NP                |       |        |      |     |    |    |    |            PP                  | \n",
            " |   |    ___|_____________    |       |        |      |     |    |    |    |     _______|_____              |  \n",
            " NP  |   |       ADJP      |   |       NP       |      NP   WHNP  NP   |    NP   |             NP            | \n",
            " |   |   |    ____|____    |   |    ___|___     |      |     |    |    |    |    |    _________|_______      |  \n",
            "PRP VBP  DT  RB        JJ  NN  IN  DT      NN   IN    NNS   WDT  PRP  VBD   JJ   IN  DT        NN      NN    . \n",
            " |   |   |   |         |   |   |   |       |    |      |     |    |    |    |    |   |         |       |     |  \n",
            " I  see  a  very      big dog  on the     pile  of  clothes that you  left next  to the     washing machine  . \n",
            "\n"
          ]
        }
      ],
      "source": [
        "\n",
        "sentence='I see a very big dog on the pile of clothes that you left next to the washing machine.'\n",
        "\n",
        "r=s.parse(sentence)"
      ]
    },
    {
      "cell_type": "code",
      "execution_count": 11,
      "metadata": {
        "colab": {
          "base_uri": "https://localhost:8080/"
        },
        "id": "I6XKAe4RjM_U",
        "outputId": "5e150068-2d3d-4048-e6c2-b24ace186b46"
      },
      "outputs": [
        {
          "output_type": "stream",
          "name": "stdout",
          "text": [
            "        ROOT                  \n",
            "         |                     \n",
            "         NP                   \n",
            "      ___|__________________   \n",
            "     NP           NP        | \n",
            "  ___|___      ___|____     |  \n",
            " DT  JJ  NN   DT      NNS   . \n",
            " |   |   |    |        |    |  \n",
            "The old man  the     boats  . \n",
            "\n"
          ]
        }
      ],
      "source": [
        "# This sentence was contributed by course participant Pius von Däniken during the live lecture on May 7, 2020\n",
        "# The parser has a really hard time with the word man used as a verb\n",
        "sentence='The old man the boats.'\n",
        "\n",
        "r=s.parse(sentence)"
      ]
    },
    {
      "cell_type": "code",
      "execution_count": 12,
      "metadata": {
        "colab": {
          "base_uri": "https://localhost:8080/"
        },
        "id": "b__firOojM_W",
        "outputId": "484b0e77-9226-40b1-8cf0-3bb39fa91f1f"
      },
      "outputs": [
        {
          "output_type": "stream",
          "name": "stdout",
          "text": [
            "                  ROOT                       \n",
            "                   |                          \n",
            "                   S                         \n",
            "      _____________|_______________________   \n",
            "     |                   VP                | \n",
            "     |        ___________|___              |  \n",
            "     |       |               VP            | \n",
            "     |       |      _________|___          |  \n",
            "     NP      |     |             NP        | \n",
            "  ___|___    |     |          ___|____     |  \n",
            " DT      JJ VBP   VBG        DT      NNS   . \n",
            " |       |   |     |         |        |    |  \n",
            "The     old are manning     the     boats  . \n",
            "\n"
          ]
        }
      ],
      "source": [
        "# The parser has an easier time if we change 'man' to 'are manning'\n",
        "sentence='The old are manning the boats.'\n",
        "\n",
        "r=s.parse(sentence)"
      ]
    },
    {
      "cell_type": "code",
      "execution_count": 13,
      "metadata": {
        "colab": {
          "base_uri": "https://localhost:8080/",
          "height": 428
        },
        "id": "neWQVIOVjM_Z",
        "outputId": "ec691b5d-85a8-41e0-8322-fbe25e221456"
      },
      "outputs": [
        {
          "output_type": "execute_result",
          "data": {
            "text/plain": [
              "<DependencyGraph with 8 nodes>"
            ],
            "image/svg+xml": "<?xml version=\"1.0\" encoding=\"UTF-8\" standalone=\"no\"?>\n<!DOCTYPE svg PUBLIC \"-//W3C//DTD SVG 1.1//EN\"\n \"http://www.w3.org/Graphics/SVG/1.1/DTD/svg11.dtd\">\n<!-- Generated by graphviz version 2.40.1 (20161225.0304)\n -->\n<!-- Title: G Pages: 1 -->\n<svg width=\"296pt\" height=\"305pt\"\n viewBox=\"0.00 0.00 295.50 305.00\" xmlns=\"http://www.w3.org/2000/svg\" xmlns:xlink=\"http://www.w3.org/1999/xlink\">\n<g id=\"graph0\" class=\"graph\" transform=\"scale(1 1) rotate(0) translate(4 301)\">\n<title>G</title>\n<polygon fill=\"#ffffff\" stroke=\"transparent\" points=\"-4,4 -4,-301 291.5,-301 291.5,4 -4,4\"/>\n<!-- 0 -->\n<g id=\"node1\" class=\"node\">\n<title>0</title>\n<text text-anchor=\"middle\" x=\"141.5\" y=\"-275.3\" font-family=\"Times,serif\" font-size=\"14.00\" fill=\"#000000\">0 (None)</text>\n</g>\n<!-- 4 -->\n<g id=\"node2\" class=\"node\">\n<title>4</title>\n<text text-anchor=\"middle\" x=\"141.5\" y=\"-188.3\" font-family=\"Times,serif\" font-size=\"14.00\" fill=\"#000000\">4 (manning)</text>\n</g>\n<!-- 0&#45;&gt;4 -->\n<g id=\"edge1\" class=\"edge\">\n<title>0&#45;&gt;4</title>\n<path fill=\"none\" stroke=\"#000000\" d=\"M141.5,-260.9735C141.5,-249.1918 141.5,-233.5607 141.5,-220.1581\"/>\n<polygon fill=\"#000000\" stroke=\"#000000\" points=\"145.0001,-220.0033 141.5,-210.0034 138.0001,-220.0034 145.0001,-220.0033\"/>\n<text text-anchor=\"middle\" x=\"161.5\" y=\"-231.8\" font-family=\"Times,serif\" font-size=\"14.00\" fill=\"#000000\">ROOT</text>\n</g>\n<!-- 2 -->\n<g id=\"node4\" class=\"node\">\n<title>2</title>\n<text text-anchor=\"middle\" x=\"29.5\" y=\"-101.3\" font-family=\"Times,serif\" font-size=\"14.00\" fill=\"#000000\">2 (old)</text>\n</g>\n<!-- 4&#45;&gt;2 -->\n<g id=\"edge3\" class=\"edge\">\n<title>4&#45;&gt;2</title>\n<path fill=\"none\" stroke=\"#000000\" d=\"M106.6481,-173.9612C97.495,-168.6422 87.8535,-162.4924 79.5,-156 69.8076,-148.467 60.1341,-139.1332 51.9143,-130.518\"/>\n<polygon fill=\"#000000\" stroke=\"#000000\" points=\"54.4755,-128.1325 45.1013,-123.1953 49.3506,-132.9007 54.4755,-128.1325\"/>\n<text text-anchor=\"middle\" x=\"95.5\" y=\"-144.8\" font-family=\"Times,serif\" font-size=\"14.00\" fill=\"#000000\">nsubj</text>\n</g>\n<!-- 3 -->\n<g id=\"node5\" class=\"node\">\n<title>3</title>\n<text text-anchor=\"middle\" x=\"102.5\" y=\"-101.3\" font-family=\"Times,serif\" font-size=\"14.00\" fill=\"#000000\">3 (are)</text>\n</g>\n<!-- 4&#45;&gt;3 -->\n<g id=\"edge4\" class=\"edge\">\n<title>4&#45;&gt;3</title>\n<path fill=\"none\" stroke=\"#000000\" d=\"M129.9134,-173.6738C126.6444,-168.113 123.2365,-161.9092 120.5,-156 117.0982,-148.654 113.946,-140.4712 111.2613,-132.8486\"/>\n<polygon fill=\"#000000\" stroke=\"#000000\" points=\"114.5401,-131.6187 108.0194,-123.2681 107.9094,-133.8624 114.5401,-131.6187\"/>\n<text text-anchor=\"middle\" x=\"131.5\" y=\"-144.8\" font-family=\"Times,serif\" font-size=\"14.00\" fill=\"#000000\">aux</text>\n</g>\n<!-- 6 -->\n<g id=\"node6\" class=\"node\">\n<title>6</title>\n<text text-anchor=\"middle\" x=\"181.5\" y=\"-101.3\" font-family=\"Times,serif\" font-size=\"14.00\" fill=\"#000000\">6 (boats)</text>\n</g>\n<!-- 4&#45;&gt;6 -->\n<g id=\"edge5\" class=\"edge\">\n<title>4&#45;&gt;6</title>\n<path fill=\"none\" stroke=\"#000000\" d=\"M149.788,-173.9735C155.3122,-161.9585 162.677,-145.9401 168.9186,-132.3646\"/>\n<polygon fill=\"#000000\" stroke=\"#000000\" points=\"172.2252,-133.5512 173.2226,-123.0034 165.8652,-130.627 172.2252,-133.5512\"/>\n<text text-anchor=\"middle\" x=\"173\" y=\"-144.8\" font-family=\"Times,serif\" font-size=\"14.00\" fill=\"#000000\">obj</text>\n</g>\n<!-- 7 -->\n<g id=\"node7\" class=\"node\">\n<title>7</title>\n<text text-anchor=\"middle\" x=\"260.5\" y=\"-101.3\" font-family=\"Times,serif\" font-size=\"14.00\" fill=\"#000000\">7 (.)</text>\n</g>\n<!-- 4&#45;&gt;7 -->\n<g id=\"edge6\" class=\"edge\">\n<title>4&#45;&gt;7</title>\n<path fill=\"none\" stroke=\"#000000\" d=\"M166.1569,-173.9735C183.9475,-160.9669 208.155,-143.269 227.5942,-129.0571\"/>\n<polygon fill=\"#000000\" stroke=\"#000000\" points=\"229.8677,-131.7307 235.8747,-123.0034 225.7364,-126.0798 229.8677,-131.7307\"/>\n<text text-anchor=\"middle\" x=\"224\" y=\"-144.8\" font-family=\"Times,serif\" font-size=\"14.00\" fill=\"#000000\">punct</text>\n</g>\n<!-- 1 -->\n<g id=\"node3\" class=\"node\">\n<title>1</title>\n<text text-anchor=\"middle\" x=\"29.5\" y=\"-14.3\" font-family=\"Times,serif\" font-size=\"14.00\" fill=\"#000000\">1 (The)</text>\n</g>\n<!-- 2&#45;&gt;1 -->\n<g id=\"edge2\" class=\"edge\">\n<title>2&#45;&gt;1</title>\n<path fill=\"none\" stroke=\"#000000\" d=\"M29.5,-86.9735C29.5,-75.1918 29.5,-59.5607 29.5,-46.1581\"/>\n<polygon fill=\"#000000\" stroke=\"#000000\" points=\"33.0001,-46.0033 29.5,-36.0034 26.0001,-46.0034 33.0001,-46.0033\"/>\n<text text-anchor=\"middle\" x=\"38.5\" y=\"-57.8\" font-family=\"Times,serif\" font-size=\"14.00\" fill=\"#000000\">det</text>\n</g>\n<!-- 5 -->\n<g id=\"node8\" class=\"node\">\n<title>5</title>\n<text text-anchor=\"middle\" x=\"181.5\" y=\"-14.3\" font-family=\"Times,serif\" font-size=\"14.00\" fill=\"#000000\">5 (the)</text>\n</g>\n<!-- 6&#45;&gt;5 -->\n<g id=\"edge7\" class=\"edge\">\n<title>6&#45;&gt;5</title>\n<path fill=\"none\" stroke=\"#000000\" d=\"M181.5,-86.9735C181.5,-75.1918 181.5,-59.5607 181.5,-46.1581\"/>\n<polygon fill=\"#000000\" stroke=\"#000000\" points=\"185.0001,-46.0033 181.5,-36.0034 178.0001,-46.0034 185.0001,-46.0033\"/>\n<text text-anchor=\"middle\" x=\"190.5\" y=\"-57.8\" font-family=\"Times,serif\" font-size=\"14.00\" fill=\"#000000\">det</text>\n</g>\n</g>\n</svg>\n"
          },
          "metadata": {},
          "execution_count": 13
        }
      ],
      "source": [
        "from nltk.parse.corenlp import CoreNLPDependencyParser\n",
        "my_port = 9001\n",
        "url = 'http://localhost:'+str(my_port)\n",
        "parser = CoreNLPDependencyParser(url=url)\n",
        "parse = next(parser.raw_parse(sentence))\n",
        "parse"
      ]
    },
    {
      "cell_type": "code",
      "execution_count": 14,
      "metadata": {
        "colab": {
          "base_uri": "https://localhost:8080/",
          "height": 544
        },
        "id": "6mM5_2oFjM_b",
        "outputId": "053fb2db-10ff-433a-ca93-1de0c46da7e4"
      },
      "outputs": [
        {
          "output_type": "execute_result",
          "data": {
            "text/plain": [
              "<DependencyGraph with 9 nodes>"
            ],
            "image/svg+xml": "<?xml version=\"1.0\" encoding=\"UTF-8\" standalone=\"no\"?>\n<!DOCTYPE svg PUBLIC \"-//W3C//DTD SVG 1.1//EN\"\n \"http://www.w3.org/Graphics/SVG/1.1/DTD/svg11.dtd\">\n<!-- Generated by graphviz version 2.40.1 (20161225.0304)\n -->\n<!-- Title: G Pages: 1 -->\n<svg width=\"308pt\" height=\"392pt\"\n viewBox=\"0.00 0.00 307.50 392.00\" xmlns=\"http://www.w3.org/2000/svg\" xmlns:xlink=\"http://www.w3.org/1999/xlink\">\n<g id=\"graph0\" class=\"graph\" transform=\"scale(1 1) rotate(0) translate(4 388)\">\n<title>G</title>\n<polygon fill=\"#ffffff\" stroke=\"transparent\" points=\"-4,4 -4,-388 303.5,-388 303.5,4 -4,4\"/>\n<!-- 0 -->\n<g id=\"node1\" class=\"node\">\n<title>0</title>\n<text text-anchor=\"middle\" x=\"153.5\" y=\"-362.3\" font-family=\"Times,serif\" font-size=\"14.00\" fill=\"#000000\">0 (None)</text>\n</g>\n<!-- 4 -->\n<g id=\"node2\" class=\"node\">\n<title>4</title>\n<text text-anchor=\"middle\" x=\"153.5\" y=\"-275.3\" font-family=\"Times,serif\" font-size=\"14.00\" fill=\"#000000\">4 (kill)</text>\n</g>\n<!-- 0&#45;&gt;4 -->\n<g id=\"edge1\" class=\"edge\">\n<title>0&#45;&gt;4</title>\n<path fill=\"none\" stroke=\"#000000\" d=\"M153.5,-347.9735C153.5,-336.1918 153.5,-320.5607 153.5,-307.1581\"/>\n<polygon fill=\"#000000\" stroke=\"#000000\" points=\"157.0001,-307.0033 153.5,-297.0034 150.0001,-307.0034 157.0001,-307.0033\"/>\n<text text-anchor=\"middle\" x=\"173.5\" y=\"-318.8\" font-family=\"Times,serif\" font-size=\"14.00\" fill=\"#000000\">ROOT</text>\n</g>\n<!-- 3 -->\n<g id=\"node5\" class=\"node\">\n<title>3</title>\n<text text-anchor=\"middle\" x=\"31.5\" y=\"-188.3\" font-family=\"Times,serif\" font-size=\"14.00\" fill=\"#000000\">3 (cops)</text>\n</g>\n<!-- 4&#45;&gt;3 -->\n<g id=\"edge4\" class=\"edge\">\n<title>4&#45;&gt;3</title>\n<path fill=\"none\" stroke=\"#000000\" d=\"M125.3738,-264.074C114.5203,-257.955 102.1724,-250.5434 91.5,-243 80.3123,-235.0925 68.6895,-225.5609 58.6866,-216.8884\"/>\n<polygon fill=\"#000000\" stroke=\"#000000\" points=\"60.8691,-214.1467 51.0509,-210.1649 56.243,-219.4003 60.8691,-214.1467\"/>\n<text text-anchor=\"middle\" x=\"107.5\" y=\"-231.8\" font-family=\"Times,serif\" font-size=\"14.00\" fill=\"#000000\">nsubj</text>\n</g>\n<!-- 5 -->\n<g id=\"node6\" class=\"node\">\n<title>5</title>\n<text text-anchor=\"middle\" x=\"112.5\" y=\"-188.3\" font-family=\"Times,serif\" font-size=\"14.00\" fill=\"#000000\">5 (man)</text>\n</g>\n<!-- 4&#45;&gt;5 -->\n<g id=\"edge5\" class=\"edge\">\n<title>4&#45;&gt;5</title>\n<path fill=\"none\" stroke=\"#000000\" d=\"M142.9067,-260.9028C139.7401,-255.2424 136.3543,-248.9262 133.5,-243 129.8773,-235.4784 126.2864,-227.1646 123.1258,-219.4706\"/>\n<polygon fill=\"#000000\" stroke=\"#000000\" points=\"126.361,-218.1345 119.3825,-210.1626 119.8665,-220.7464 126.361,-218.1345\"/>\n<text text-anchor=\"middle\" x=\"143\" y=\"-231.8\" font-family=\"Times,serif\" font-size=\"14.00\" fill=\"#000000\">obj</text>\n</g>\n<!-- 7 -->\n<g id=\"node7\" class=\"node\">\n<title>7</title>\n<text text-anchor=\"middle\" x=\"194.5\" y=\"-188.3\" font-family=\"Times,serif\" font-size=\"14.00\" fill=\"#000000\">7 (knife)</text>\n</g>\n<!-- 4&#45;&gt;7 -->\n<g id=\"edge6\" class=\"edge\">\n<title>4&#45;&gt;7</title>\n<path fill=\"none\" stroke=\"#000000\" d=\"M161.9952,-260.9735C167.6575,-248.9585 175.2064,-232.9401 181.6041,-219.3646\"/>\n<polygon fill=\"#000000\" stroke=\"#000000\" points=\"184.9187,-220.5413 186.0157,-210.0034 178.5866,-217.5571 184.9187,-220.5413\"/>\n<text text-anchor=\"middle\" x=\"186\" y=\"-231.8\" font-family=\"Times,serif\" font-size=\"14.00\" fill=\"#000000\">obl</text>\n</g>\n<!-- 8 -->\n<g id=\"node8\" class=\"node\">\n<title>8</title>\n<text text-anchor=\"middle\" x=\"272.5\" y=\"-188.3\" font-family=\"Times,serif\" font-size=\"14.00\" fill=\"#000000\">8 (.)</text>\n</g>\n<!-- 4&#45;&gt;8 -->\n<g id=\"edge7\" class=\"edge\">\n<title>4&#45;&gt;8</title>\n<path fill=\"none\" stroke=\"#000000\" d=\"M178.1569,-260.9735C195.9475,-247.9669 220.155,-230.269 239.5942,-216.0571\"/>\n<polygon fill=\"#000000\" stroke=\"#000000\" points=\"241.8677,-218.7307 247.8747,-210.0034 237.7364,-213.0798 241.8677,-218.7307\"/>\n<text text-anchor=\"middle\" x=\"236\" y=\"-231.8\" font-family=\"Times,serif\" font-size=\"14.00\" fill=\"#000000\">punct</text>\n</g>\n<!-- 1 -->\n<g id=\"node3\" class=\"node\">\n<title>1</title>\n<text text-anchor=\"middle\" x=\"31.5\" y=\"-14.3\" font-family=\"Times,serif\" font-size=\"14.00\" fill=\"#000000\">1 (San)</text>\n</g>\n<!-- 2 -->\n<g id=\"node4\" class=\"node\">\n<title>2</title>\n<text text-anchor=\"middle\" x=\"31.5\" y=\"-101.3\" font-family=\"Times,serif\" font-size=\"14.00\" fill=\"#000000\">2 (Jose)</text>\n</g>\n<!-- 2&#45;&gt;1 -->\n<g id=\"edge2\" class=\"edge\">\n<title>2&#45;&gt;1</title>\n<path fill=\"none\" stroke=\"#000000\" d=\"M31.5,-86.9735C31.5,-75.1918 31.5,-59.5607 31.5,-46.1581\"/>\n<polygon fill=\"#000000\" stroke=\"#000000\" points=\"35.0001,-46.0033 31.5,-36.0034 28.0001,-46.0034 35.0001,-46.0033\"/>\n<text text-anchor=\"middle\" x=\"63\" y=\"-57.8\" font-family=\"Times,serif\" font-size=\"14.00\" fill=\"#000000\">compound</text>\n</g>\n<!-- 3&#45;&gt;2 -->\n<g id=\"edge3\" class=\"edge\">\n<title>3&#45;&gt;2</title>\n<path fill=\"none\" stroke=\"#000000\" d=\"M31.5,-173.9735C31.5,-162.1918 31.5,-146.5607 31.5,-133.1581\"/>\n<polygon fill=\"#000000\" stroke=\"#000000\" points=\"35.0001,-133.0033 31.5,-123.0034 28.0001,-133.0034 35.0001,-133.0033\"/>\n<text text-anchor=\"middle\" x=\"63\" y=\"-144.8\" font-family=\"Times,serif\" font-size=\"14.00\" fill=\"#000000\">compound</text>\n</g>\n<!-- 6 -->\n<g id=\"node9\" class=\"node\">\n<title>6</title>\n<text text-anchor=\"middle\" x=\"194.5\" y=\"-101.3\" font-family=\"Times,serif\" font-size=\"14.00\" fill=\"#000000\">6 (with)</text>\n</g>\n<!-- 7&#45;&gt;6 -->\n<g id=\"edge8\" class=\"edge\">\n<title>7&#45;&gt;6</title>\n<path fill=\"none\" stroke=\"#000000\" d=\"M194.5,-173.9735C194.5,-162.1918 194.5,-146.5607 194.5,-133.1581\"/>\n<polygon fill=\"#000000\" stroke=\"#000000\" points=\"198.0001,-133.0033 194.5,-123.0034 191.0001,-133.0034 198.0001,-133.0033\"/>\n<text text-anchor=\"middle\" x=\"206.5\" y=\"-144.8\" font-family=\"Times,serif\" font-size=\"14.00\" fill=\"#000000\">case</text>\n</g>\n</g>\n</svg>\n"
          },
          "metadata": {},
          "execution_count": 14
        }
      ],
      "source": [
        "sentence='San Jose cops kill man with knife.'\n",
        "\n",
        "parse = next(parser.raw_parse(sentence))\n",
        "parse"
      ]
    },
    {
      "cell_type": "code",
      "execution_count": 15,
      "metadata": {
        "colab": {
          "base_uri": "https://localhost:8080/",
          "height": 776
        },
        "id": "OZKANFZhOpbc",
        "outputId": "0b9f9070-20a8-4cd1-dab2-399af0b3d3ee"
      },
      "outputs": [
        {
          "output_type": "execute_result",
          "data": {
            "text/plain": [
              "<DependencyGraph with 21 nodes>"
            ],
            "image/svg+xml": "<?xml version=\"1.0\" encoding=\"UTF-8\" standalone=\"no\"?>\n<!DOCTYPE svg PUBLIC \"-//W3C//DTD SVG 1.1//EN\"\n \"http://www.w3.org/Graphics/SVG/1.1/DTD/svg11.dtd\">\n<!-- Generated by graphviz version 2.40.1 (20161225.0304)\n -->\n<!-- Title: G Pages: 1 -->\n<svg width=\"677pt\" height=\"566pt\"\n viewBox=\"0.00 0.00 677.00 566.00\" xmlns=\"http://www.w3.org/2000/svg\" xmlns:xlink=\"http://www.w3.org/1999/xlink\">\n<g id=\"graph0\" class=\"graph\" transform=\"scale(1 1) rotate(0) translate(4 562)\">\n<title>G</title>\n<polygon fill=\"#ffffff\" stroke=\"transparent\" points=\"-4,4 -4,-562 673,-562 673,4 -4,4\"/>\n<!-- 0 -->\n<g id=\"node1\" class=\"node\">\n<title>0</title>\n<text text-anchor=\"middle\" x=\"141\" y=\"-536.3\" font-family=\"Times,serif\" font-size=\"14.00\" fill=\"#000000\">0 (None)</text>\n</g>\n<!-- 2 -->\n<g id=\"node2\" class=\"node\">\n<title>2</title>\n<text text-anchor=\"middle\" x=\"141\" y=\"-449.3\" font-family=\"Times,serif\" font-size=\"14.00\" fill=\"#000000\">2 (see)</text>\n</g>\n<!-- 0&#45;&gt;2 -->\n<g id=\"edge1\" class=\"edge\">\n<title>0&#45;&gt;2</title>\n<path fill=\"none\" stroke=\"#000000\" d=\"M141,-521.9735C141,-510.1918 141,-494.5607 141,-481.1581\"/>\n<polygon fill=\"#000000\" stroke=\"#000000\" points=\"144.5001,-481.0033 141,-471.0034 137.5001,-481.0034 144.5001,-481.0033\"/>\n<text text-anchor=\"middle\" x=\"161\" y=\"-492.8\" font-family=\"Times,serif\" font-size=\"14.00\" fill=\"#000000\">ROOT</text>\n</g>\n<!-- 1 -->\n<g id=\"node3\" class=\"node\">\n<title>1</title>\n<text text-anchor=\"middle\" x=\"66\" y=\"-362.3\" font-family=\"Times,serif\" font-size=\"14.00\" fill=\"#000000\">1 (I)</text>\n</g>\n<!-- 2&#45;&gt;1 -->\n<g id=\"edge2\" class=\"edge\">\n<title>2&#45;&gt;1</title>\n<path fill=\"none\" stroke=\"#000000\" d=\"M121.8298,-434.7696C116.2452,-429.2115 110.2401,-422.9852 105,-417 98.2427,-409.282 91.3036,-400.522 85.1867,-392.4667\"/>\n<polygon fill=\"#000000\" stroke=\"#000000\" points=\"87.945,-390.311 79.1519,-384.4006 82.3401,-394.5044 87.945,-390.311\"/>\n<text text-anchor=\"middle\" x=\"121\" y=\"-405.8\" font-family=\"Times,serif\" font-size=\"14.00\" fill=\"#000000\">nsubj</text>\n</g>\n<!-- 6 -->\n<g id=\"node4\" class=\"node\">\n<title>6</title>\n<text text-anchor=\"middle\" x=\"141\" y=\"-362.3\" font-family=\"Times,serif\" font-size=\"14.00\" fill=\"#000000\">6 (dog)</text>\n</g>\n<!-- 2&#45;&gt;6 -->\n<g id=\"edge3\" class=\"edge\">\n<title>2&#45;&gt;6</title>\n<path fill=\"none\" stroke=\"#000000\" d=\"M141,-434.9735C141,-423.1918 141,-407.5607 141,-394.1581\"/>\n<polygon fill=\"#000000\" stroke=\"#000000\" points=\"144.5001,-394.0033 141,-384.0034 137.5001,-394.0034 144.5001,-394.0033\"/>\n<text text-anchor=\"middle\" x=\"150.5\" y=\"-405.8\" font-family=\"Times,serif\" font-size=\"14.00\" fill=\"#000000\">obj</text>\n</g>\n<!-- 20 -->\n<g id=\"node5\" class=\"node\">\n<title>20</title>\n<text text-anchor=\"middle\" x=\"216\" y=\"-362.3\" font-family=\"Times,serif\" font-size=\"14.00\" fill=\"#000000\">20 (.)</text>\n</g>\n<!-- 2&#45;&gt;20 -->\n<g id=\"edge4\" class=\"edge\">\n<title>2&#45;&gt;20</title>\n<path fill=\"none\" stroke=\"#000000\" d=\"M156.54,-434.9735C167.3001,-422.4919 181.7846,-405.6899 193.7635,-391.7944\"/>\n<polygon fill=\"#000000\" stroke=\"#000000\" points=\"196.6014,-393.8628 200.4799,-384.0034 191.2995,-389.2922 196.6014,-393.8628\"/>\n<text text-anchor=\"middle\" x=\"199.5\" y=\"-405.8\" font-family=\"Times,serif\" font-size=\"14.00\" fill=\"#000000\">punct</text>\n</g>\n<!-- 3 -->\n<g id=\"node6\" class=\"node\">\n<title>3</title>\n<text text-anchor=\"middle\" x=\"31\" y=\"-275.3\" font-family=\"Times,serif\" font-size=\"14.00\" fill=\"#000000\">3 (a)</text>\n</g>\n<!-- 6&#45;&gt;3 -->\n<g id=\"edge6\" class=\"edge\">\n<title>6&#45;&gt;3</title>\n<path fill=\"none\" stroke=\"#000000\" d=\"M115.8458,-347.9845C108.12,-342.3274 99.6423,-335.9926 92,-330 81.2858,-321.5987 69.7726,-312.1005 59.6665,-303.5978\"/>\n<polygon fill=\"#000000\" stroke=\"#000000\" points=\"61.8005,-300.8187 51.9054,-297.0322 57.2794,-306.1629 61.8005,-300.8187\"/>\n<text text-anchor=\"middle\" x=\"101\" y=\"-318.8\" font-family=\"Times,serif\" font-size=\"14.00\" fill=\"#000000\">det</text>\n</g>\n<!-- 5 -->\n<g id=\"node8\" class=\"node\">\n<title>5</title>\n<text text-anchor=\"middle\" x=\"104\" y=\"-275.3\" font-family=\"Times,serif\" font-size=\"14.00\" fill=\"#000000\">5 (big)</text>\n</g>\n<!-- 6&#45;&gt;5 -->\n<g id=\"edge7\" class=\"edge\">\n<title>6&#45;&gt;5</title>\n<path fill=\"none\" stroke=\"#000000\" d=\"M128.6157,-347.8218C125.1841,-342.2651 121.6718,-336.0265 119,-330 115.8112,-322.8073 113.0828,-314.7494 110.8617,-307.2003\"/>\n<polygon fill=\"#000000\" stroke=\"#000000\" points=\"114.1791,-306.0636 108.1519,-297.3503 107.4299,-307.9205 114.1791,-306.0636\"/>\n<text text-anchor=\"middle\" x=\"135.5\" y=\"-318.8\" font-family=\"Times,serif\" font-size=\"14.00\" fill=\"#000000\">amod</text>\n</g>\n<!-- 9 -->\n<g id=\"node9\" class=\"node\">\n<title>9</title>\n<text text-anchor=\"middle\" x=\"179\" y=\"-275.3\" font-family=\"Times,serif\" font-size=\"14.00\" fill=\"#000000\">9 (pile)</text>\n</g>\n<!-- 6&#45;&gt;9 -->\n<g id=\"edge8\" class=\"edge\">\n<title>6&#45;&gt;9</title>\n<path fill=\"none\" stroke=\"#000000\" d=\"M148.8736,-347.9735C154.1216,-335.9585 161.1181,-319.9401 167.0477,-306.3646\"/>\n<polygon fill=\"#000000\" stroke=\"#000000\" points=\"170.3411,-307.5683 171.1365,-297.0034 163.9263,-304.7664 170.3411,-307.5683\"/>\n<text text-anchor=\"middle\" x=\"180\" y=\"-318.8\" font-family=\"Times,serif\" font-size=\"14.00\" fill=\"#000000\">nmod</text>\n</g>\n<!-- 14 -->\n<g id=\"node10\" class=\"node\">\n<title>14</title>\n<text text-anchor=\"middle\" x=\"400\" y=\"-275.3\" font-family=\"Times,serif\" font-size=\"14.00\" fill=\"#000000\">14 (left)</text>\n</g>\n<!-- 6&#45;&gt;14 -->\n<g id=\"edge9\" class=\"edge\">\n<title>6&#45;&gt;14</title>\n<path fill=\"none\" stroke=\"#000000\" d=\"M170.6415,-351.842C173.7776,-350.4876 176.9387,-349.1809 180,-348 241.3265,-324.3432 314.4966,-302.6454 359.0838,-290.127\"/>\n<polygon fill=\"#000000\" stroke=\"#000000\" points=\"360.2712,-293.4295 368.9637,-287.3722 358.3911,-286.6867 360.2712,-293.4295\"/>\n<text text-anchor=\"middle\" x=\"292\" y=\"-318.8\" font-family=\"Times,serif\" font-size=\"14.00\" fill=\"#000000\">acl:relcl</text>\n</g>\n<!-- 4 -->\n<g id=\"node7\" class=\"node\">\n<title>4</title>\n<text text-anchor=\"middle\" x=\"31\" y=\"-188.3\" font-family=\"Times,serif\" font-size=\"14.00\" fill=\"#000000\">4 (very)</text>\n</g>\n<!-- 5&#45;&gt;4 -->\n<g id=\"edge5\" class=\"edge\">\n<title>5&#45;&gt;4</title>\n<path fill=\"none\" stroke=\"#000000\" d=\"M88.8744,-260.9735C78.4012,-248.4919 64.303,-231.6899 52.6435,-217.7944\"/>\n<polygon fill=\"#000000\" stroke=\"#000000\" points=\"55.2153,-215.4142 46.1063,-210.0034 49.8529,-219.9136 55.2153,-215.4142\"/>\n<text text-anchor=\"middle\" x=\"96\" y=\"-231.8\" font-family=\"Times,serif\" font-size=\"14.00\" fill=\"#000000\">advmod</text>\n</g>\n<!-- 7 -->\n<g id=\"node11\" class=\"node\">\n<title>7</title>\n<text text-anchor=\"middle\" x=\"107\" y=\"-188.3\" font-family=\"Times,serif\" font-size=\"14.00\" fill=\"#000000\">7 (on)</text>\n</g>\n<!-- 9&#45;&gt;7 -->\n<g id=\"edge10\" class=\"edge\">\n<title>9&#45;&gt;7</title>\n<path fill=\"none\" stroke=\"#000000\" d=\"M164.0816,-260.9735C153.7519,-248.4919 139.8468,-231.6899 128.3471,-217.7944\"/>\n<polygon fill=\"#000000\" stroke=\"#000000\" points=\"130.9714,-215.4758 121.8993,-210.0034 125.5787,-219.9388 130.9714,-215.4758\"/>\n<text text-anchor=\"middle\" x=\"160\" y=\"-231.8\" font-family=\"Times,serif\" font-size=\"14.00\" fill=\"#000000\">case</text>\n</g>\n<!-- 8 -->\n<g id=\"node12\" class=\"node\">\n<title>8</title>\n<text text-anchor=\"middle\" x=\"179\" y=\"-188.3\" font-family=\"Times,serif\" font-size=\"14.00\" fill=\"#000000\">8 (the)</text>\n</g>\n<!-- 9&#45;&gt;8 -->\n<g id=\"edge11\" class=\"edge\">\n<title>9&#45;&gt;8</title>\n<path fill=\"none\" stroke=\"#000000\" d=\"M179,-260.9735C179,-249.1918 179,-233.5607 179,-220.1581\"/>\n<polygon fill=\"#000000\" stroke=\"#000000\" points=\"182.5001,-220.0033 179,-210.0034 175.5001,-220.0034 182.5001,-220.0033\"/>\n<text text-anchor=\"middle\" x=\"188\" y=\"-231.8\" font-family=\"Times,serif\" font-size=\"14.00\" fill=\"#000000\">det</text>\n</g>\n<!-- 11 -->\n<g id=\"node13\" class=\"node\">\n<title>11</title>\n<text text-anchor=\"middle\" x=\"266\" y=\"-188.3\" font-family=\"Times,serif\" font-size=\"14.00\" fill=\"#000000\">11 (clothes)</text>\n</g>\n<!-- 9&#45;&gt;11 -->\n<g id=\"edge12\" class=\"edge\">\n<title>9&#45;&gt;11</title>\n<path fill=\"none\" stroke=\"#000000\" d=\"M197.0265,-260.9735C209.6248,-248.3752 226.6245,-231.3755 240.5945,-217.4055\"/>\n<polygon fill=\"#000000\" stroke=\"#000000\" points=\"243.4004,-219.5493 247.9966,-210.0034 238.4507,-214.5996 243.4004,-219.5493\"/>\n<text text-anchor=\"middle\" x=\"245\" y=\"-231.8\" font-family=\"Times,serif\" font-size=\"14.00\" fill=\"#000000\">nmod</text>\n</g>\n<!-- 12 -->\n<g id=\"node15\" class=\"node\">\n<title>12</title>\n<text text-anchor=\"middle\" x=\"358\" y=\"-188.3\" font-family=\"Times,serif\" font-size=\"14.00\" fill=\"#000000\">12 (that)</text>\n</g>\n<!-- 14&#45;&gt;12 -->\n<g id=\"edge14\" class=\"edge\">\n<title>14&#45;&gt;12</title>\n<path fill=\"none\" stroke=\"#000000\" d=\"M391.2976,-260.9735C385.4972,-248.9585 377.7642,-232.9401 371.2105,-219.3646\"/>\n<polygon fill=\"#000000\" stroke=\"#000000\" points=\"374.1908,-217.4872 366.6913,-210.0034 367.8869,-220.5305 374.1908,-217.4872\"/>\n<text text-anchor=\"middle\" x=\"391.5\" y=\"-231.8\" font-family=\"Times,serif\" font-size=\"14.00\" fill=\"#000000\">obj</text>\n</g>\n<!-- 13 -->\n<g id=\"node16\" class=\"node\">\n<title>13</title>\n<text text-anchor=\"middle\" x=\"442\" y=\"-188.3\" font-family=\"Times,serif\" font-size=\"14.00\" fill=\"#000000\">13 (you)</text>\n</g>\n<!-- 14&#45;&gt;13 -->\n<g id=\"edge15\" class=\"edge\">\n<title>14&#45;&gt;13</title>\n<path fill=\"none\" stroke=\"#000000\" d=\"M408.7024,-260.9735C414.5028,-248.9585 422.2358,-232.9401 428.7895,-219.3646\"/>\n<polygon fill=\"#000000\" stroke=\"#000000\" points=\"432.1131,-220.5305 433.3087,-210.0034 425.8092,-217.4872 432.1131,-220.5305\"/>\n<text text-anchor=\"middle\" x=\"440\" y=\"-231.8\" font-family=\"Times,serif\" font-size=\"14.00\" fill=\"#000000\">nsubj</text>\n</g>\n<!-- 15 -->\n<g id=\"node17\" class=\"node\">\n<title>15</title>\n<text text-anchor=\"middle\" x=\"528\" y=\"-188.3\" font-family=\"Times,serif\" font-size=\"14.00\" fill=\"#000000\">15 (next)</text>\n</g>\n<!-- 14&#45;&gt;15 -->\n<g id=\"edge16\" class=\"edge\">\n<title>14&#45;&gt;15</title>\n<path fill=\"none\" stroke=\"#000000\" d=\"M431.2128,-261.1C440.5932,-255.5002 450.8264,-249.1683 460,-243 472.4163,-234.6513 485.6641,-224.9158 497.137,-216.2016\"/>\n<polygon fill=\"#000000\" stroke=\"#000000\" points=\"499.3298,-218.9307 505.1402,-210.0712 495.0731,-213.3737 499.3298,-218.9307\"/>\n<text text-anchor=\"middle\" x=\"506\" y=\"-231.8\" font-family=\"Times,serif\" font-size=\"14.00\" fill=\"#000000\">advmod</text>\n</g>\n<!-- 10 -->\n<g id=\"node14\" class=\"node\">\n<title>10</title>\n<text text-anchor=\"middle\" x=\"266\" y=\"-101.3\" font-family=\"Times,serif\" font-size=\"14.00\" fill=\"#000000\">10 (of)</text>\n</g>\n<!-- 11&#45;&gt;10 -->\n<g id=\"edge13\" class=\"edge\">\n<title>11&#45;&gt;10</title>\n<path fill=\"none\" stroke=\"#000000\" d=\"M266,-173.9735C266,-162.1918 266,-146.5607 266,-133.1581\"/>\n<polygon fill=\"#000000\" stroke=\"#000000\" points=\"269.5001,-133.0033 266,-123.0034 262.5001,-133.0034 269.5001,-133.0033\"/>\n<text text-anchor=\"middle\" x=\"278\" y=\"-144.8\" font-family=\"Times,serif\" font-size=\"14.00\" fill=\"#000000\">case</text>\n</g>\n<!-- 19 -->\n<g id=\"node18\" class=\"node\">\n<title>19</title>\n<text text-anchor=\"middle\" x=\"528\" y=\"-101.3\" font-family=\"Times,serif\" font-size=\"14.00\" fill=\"#000000\">19 (machine)</text>\n</g>\n<!-- 15&#45;&gt;19 -->\n<g id=\"edge17\" class=\"edge\">\n<title>15&#45;&gt;19</title>\n<path fill=\"none\" stroke=\"#000000\" d=\"M528,-173.9735C528,-162.1918 528,-146.5607 528,-133.1581\"/>\n<polygon fill=\"#000000\" stroke=\"#000000\" points=\"531.5001,-133.0033 528,-123.0034 524.5001,-133.0034 531.5001,-133.0033\"/>\n<text text-anchor=\"middle\" x=\"537.5\" y=\"-144.8\" font-family=\"Times,serif\" font-size=\"14.00\" fill=\"#000000\">obl</text>\n</g>\n<!-- 16 -->\n<g id=\"node19\" class=\"node\">\n<title>16</title>\n<text text-anchor=\"middle\" x=\"451\" y=\"-14.3\" font-family=\"Times,serif\" font-size=\"14.00\" fill=\"#000000\">16 (to)</text>\n</g>\n<!-- 19&#45;&gt;16 -->\n<g id=\"edge18\" class=\"edge\">\n<title>19&#45;&gt;16</title>\n<path fill=\"none\" stroke=\"#000000\" d=\"M512.0456,-86.9735C500.9986,-74.4919 486.1278,-57.6899 473.8295,-43.7944\"/>\n<polygon fill=\"#000000\" stroke=\"#000000\" points=\"476.1826,-41.172 466.934,-36.0034 470.9407,-45.8114 476.1826,-41.172\"/>\n<text text-anchor=\"middle\" x=\"507\" y=\"-57.8\" font-family=\"Times,serif\" font-size=\"14.00\" fill=\"#000000\">case</text>\n</g>\n<!-- 17 -->\n<g id=\"node20\" class=\"node\">\n<title>17</title>\n<text text-anchor=\"middle\" x=\"528\" y=\"-14.3\" font-family=\"Times,serif\" font-size=\"14.00\" fill=\"#000000\">17 (the)</text>\n</g>\n<!-- 19&#45;&gt;17 -->\n<g id=\"edge19\" class=\"edge\">\n<title>19&#45;&gt;17</title>\n<path fill=\"none\" stroke=\"#000000\" d=\"M528,-86.9735C528,-75.1918 528,-59.5607 528,-46.1581\"/>\n<polygon fill=\"#000000\" stroke=\"#000000\" points=\"531.5001,-46.0033 528,-36.0034 524.5001,-46.0034 531.5001,-46.0033\"/>\n<text text-anchor=\"middle\" x=\"537\" y=\"-57.8\" font-family=\"Times,serif\" font-size=\"14.00\" fill=\"#000000\">det</text>\n</g>\n<!-- 18 -->\n<g id=\"node21\" class=\"node\">\n<title>18</title>\n<text text-anchor=\"middle\" x=\"623\" y=\"-14.3\" font-family=\"Times,serif\" font-size=\"14.00\" fill=\"#000000\">18 (washing)</text>\n</g>\n<!-- 19&#45;&gt;18 -->\n<g id=\"edge20\" class=\"edge\">\n<title>19&#45;&gt;18</title>\n<path fill=\"none\" stroke=\"#000000\" d=\"M547.6841,-86.9735C561.5682,-74.2586 580.348,-57.0603 595.6812,-43.0183\"/>\n<polygon fill=\"#000000\" stroke=\"#000000\" points=\"598.3302,-45.3383 603.3412,-36.0034 593.6026,-40.1759 598.3302,-45.3383\"/>\n<text text-anchor=\"middle\" x=\"613.5\" y=\"-57.8\" font-family=\"Times,serif\" font-size=\"14.00\" fill=\"#000000\">compound</text>\n</g>\n</g>\n</svg>\n"
          },
          "metadata": {},
          "execution_count": 15
        }
      ],
      "source": [
        "sentence='I see a very big dog on the pile of clothes that you left next to the washing machine.'\n",
        "parse = next(parser.raw_parse(sentence))\n",
        "parse"
      ]
    },
    {
      "cell_type": "code",
      "execution_count": 16,
      "metadata": {
        "colab": {
          "base_uri": "https://localhost:8080/",
          "height": 428
        },
        "id": "8MkGk90DOpbe",
        "outputId": "e7a142ad-959d-4dbe-9fdc-efc4e49579c9"
      },
      "outputs": [
        {
          "output_type": "execute_result",
          "data": {
            "text/plain": [
              "<DependencyGraph with 7 nodes>"
            ],
            "image/svg+xml": "<?xml version=\"1.0\" encoding=\"UTF-8\" standalone=\"no\"?>\n<!DOCTYPE svg PUBLIC \"-//W3C//DTD SVG 1.1//EN\"\n \"http://www.w3.org/Graphics/SVG/1.1/DTD/svg11.dtd\">\n<!-- Generated by graphviz version 2.40.1 (20161225.0304)\n -->\n<!-- Title: G Pages: 1 -->\n<svg width=\"350pt\" height=\"305pt\"\n viewBox=\"0.00 0.00 350.00 305.00\" xmlns=\"http://www.w3.org/2000/svg\" xmlns:xlink=\"http://www.w3.org/1999/xlink\">\n<g id=\"graph0\" class=\"graph\" transform=\"scale(1 1) rotate(0) translate(4 301)\">\n<title>G</title>\n<polygon fill=\"#ffffff\" stroke=\"transparent\" points=\"-4,4 -4,-301 346,-301 346,4 -4,4\"/>\n<!-- 0 -->\n<g id=\"node1\" class=\"node\">\n<title>0</title>\n<text text-anchor=\"middle\" x=\"179\" y=\"-275.3\" font-family=\"Times,serif\" font-size=\"14.00\" fill=\"#000000\">0 (None)</text>\n</g>\n<!-- 2 -->\n<g id=\"node2\" class=\"node\">\n<title>2</title>\n<text text-anchor=\"middle\" x=\"179\" y=\"-188.3\" font-family=\"Times,serif\" font-size=\"14.00\" fill=\"#000000\">2 (count)</text>\n</g>\n<!-- 0&#45;&gt;2 -->\n<g id=\"edge1\" class=\"edge\">\n<title>0&#45;&gt;2</title>\n<path fill=\"none\" stroke=\"#000000\" d=\"M179,-260.9735C179,-249.1918 179,-233.5607 179,-220.1581\"/>\n<polygon fill=\"#000000\" stroke=\"#000000\" points=\"182.5001,-220.0033 179,-210.0034 175.5001,-220.0034 182.5001,-220.0033\"/>\n<text text-anchor=\"middle\" x=\"199\" y=\"-231.8\" font-family=\"Times,serif\" font-size=\"14.00\" fill=\"#000000\">ROOT</text>\n</g>\n<!-- 1 -->\n<g id=\"node3\" class=\"node\">\n<title>1</title>\n<text text-anchor=\"middle\" x=\"45\" y=\"-101.3\" font-family=\"Times,serif\" font-size=\"14.00\" fill=\"#000000\">1 (Scientists)</text>\n</g>\n<!-- 2&#45;&gt;1 -->\n<g id=\"edge2\" class=\"edge\">\n<title>2&#45;&gt;1</title>\n<path fill=\"none\" stroke=\"#000000\" d=\"M151.2351,-173.9735C130.9324,-160.792 103.2084,-142.792 81.173,-128.4855\"/>\n<polygon fill=\"#000000\" stroke=\"#000000\" points=\"83.0226,-125.5133 72.7293,-123.0034 79.2107,-131.3844 83.0226,-125.5133\"/>\n<text text-anchor=\"middle\" x=\"137\" y=\"-144.8\" font-family=\"Times,serif\" font-size=\"14.00\" fill=\"#000000\">nsubj</text>\n</g>\n<!-- 3 -->\n<g id=\"node4\" class=\"node\">\n<title>3</title>\n<text text-anchor=\"middle\" x=\"146\" y=\"-101.3\" font-family=\"Times,serif\" font-size=\"14.00\" fill=\"#000000\">3 (whales)</text>\n</g>\n<!-- 2&#45;&gt;3 -->\n<g id=\"edge3\" class=\"edge\">\n<title>2&#45;&gt;3</title>\n<path fill=\"none\" stroke=\"#000000\" d=\"M172.1624,-173.9735C167.6049,-161.9585 161.529,-145.9401 156.3797,-132.3646\"/>\n<polygon fill=\"#000000\" stroke=\"#000000\" points=\"159.648,-131.112 152.8289,-123.0034 153.103,-133.5947 159.648,-131.112\"/>\n<text text-anchor=\"middle\" x=\"174.5\" y=\"-144.8\" font-family=\"Times,serif\" font-size=\"14.00\" fill=\"#000000\">obj</text>\n</g>\n<!-- 5 -->\n<g id=\"node5\" class=\"node\">\n<title>5</title>\n<text text-anchor=\"middle\" x=\"236\" y=\"-101.3\" font-family=\"Times,serif\" font-size=\"14.00\" fill=\"#000000\">5 (space)</text>\n</g>\n<!-- 2&#45;&gt;5 -->\n<g id=\"edge4\" class=\"edge\">\n<title>2&#45;&gt;5</title>\n<path fill=\"none\" stroke=\"#000000\" d=\"M190.8104,-173.9735C198.8352,-161.7252 209.5857,-145.3165 218.5878,-131.5766\"/>\n<polygon fill=\"#000000\" stroke=\"#000000\" points=\"221.652,-133.2861 224.2047,-123.0034 215.7968,-129.4499 221.652,-133.2861\"/>\n<text text-anchor=\"middle\" x=\"220.5\" y=\"-144.8\" font-family=\"Times,serif\" font-size=\"14.00\" fill=\"#000000\">obl</text>\n</g>\n<!-- 6 -->\n<g id=\"node6\" class=\"node\">\n<title>6</title>\n<text text-anchor=\"middle\" x=\"315\" y=\"-101.3\" font-family=\"Times,serif\" font-size=\"14.00\" fill=\"#000000\">6 (.)</text>\n</g>\n<!-- 2&#45;&gt;6 -->\n<g id=\"edge5\" class=\"edge\">\n<title>2&#45;&gt;6</title>\n<path fill=\"none\" stroke=\"#000000\" d=\"M207.1793,-173.9735C228.0597,-160.6162 256.6745,-142.3111 279.1785,-127.9152\"/>\n<polygon fill=\"#000000\" stroke=\"#000000\" points=\"281.2471,-130.7469 287.7848,-122.4097 277.4749,-124.8502 281.2471,-130.7469\"/>\n<text text-anchor=\"middle\" x=\"272.5\" y=\"-144.8\" font-family=\"Times,serif\" font-size=\"14.00\" fill=\"#000000\">punct</text>\n</g>\n<!-- 4 -->\n<g id=\"node7\" class=\"node\">\n<title>4</title>\n<text text-anchor=\"middle\" x=\"236\" y=\"-14.3\" font-family=\"Times,serif\" font-size=\"14.00\" fill=\"#000000\">4 (from)</text>\n</g>\n<!-- 5&#45;&gt;4 -->\n<g id=\"edge6\" class=\"edge\">\n<title>5&#45;&gt;4</title>\n<path fill=\"none\" stroke=\"#000000\" d=\"M236,-86.9735C236,-75.1918 236,-59.5607 236,-46.1581\"/>\n<polygon fill=\"#000000\" stroke=\"#000000\" points=\"239.5001,-46.0033 236,-36.0034 232.5001,-46.0034 239.5001,-46.0033\"/>\n<text text-anchor=\"middle\" x=\"248\" y=\"-57.8\" font-family=\"Times,serif\" font-size=\"14.00\" fill=\"#000000\">case</text>\n</g>\n</g>\n</svg>\n"
          },
          "metadata": {},
          "execution_count": 16
        }
      ],
      "source": [
        "sentence='Scientists count whales from space.'\n",
        "\n",
        "parse = next(parser.raw_parse(sentence))\n",
        "parse"
      ]
    },
    {
      "cell_type": "code",
      "execution_count": null,
      "metadata": {
        "id": "1tWT-cO3Opbf"
      },
      "outputs": [],
      "source": [
        ""
      ]
    }
  ],
  "metadata": {
    "colab": {
      "collapsed_sections": [],
      "name": "MSE_AnTeDe_Syntax_Lab_A_ParsingBasics.ipynb",
      "provenance": []
    },
    "kernelspec": {
      "display_name": "py39",
      "language": "python",
      "name": "py39"
    },
    "language_info": {
      "codemirror_mode": {
        "name": "ipython",
        "version": 3
      },
      "file_extension": ".py",
      "mimetype": "text/x-python",
      "name": "python",
      "nbconvert_exporter": "python",
      "pygments_lexer": "ipython3",
      "version": "3.9.1"
    }
  },
  "nbformat": 4,
  "nbformat_minor": 0
}