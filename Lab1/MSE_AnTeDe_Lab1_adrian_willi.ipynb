{
  "cells": [
    {
      "cell_type": "markdown",
      "source": [
        ""
      ],
      "metadata": {
        "id": "v8bZa8PWRkqG"
      }
    },
    {
      "cell_type": "markdown",
      "metadata": {
        "id": "GimsnoNQH2-W"
      },
      "source": [
        "![MSE Logo](https://moodle.msengineering.ch/pluginfile.php/1/core_admin/logo/0x150/1643104191/logo-mse.png)\n",
        "\n",
        "# AnTeDe Lab 1: Text Segmentation with NLTK\n",
        "\n",
        "## Objectives\n",
        "The goal of the first [AnTeDe](https://moodle.msengineering.ch/course/view.php?id=1869) lab is to run simple operations for text analysis using the [NLTK](http://www.nltk.org/) toolkit.  You will use the environment that you set up following the instructions of the previous notebook: [Python 3](https://www.python.org/) with [Jupyter](https://jupyter.org/) notebooks.  \n",
        "\n",
        "You will use NLTK functions to get texts from the web and segment (split) them into sentences and words (also called *tokens*).  You will also experiment with extracting statistics about the texts.\n",
        "\n",
        "To submit your practical work, please execute anew all cells of this notebook via \"Runtime > Restart and run all\", then save it, zip it, and submit it as homework on the [AnTeDe Moodle page](https://moodle.msengineering.ch/course/view.php?id=1869)."
      ]
    },
    {
      "cell_type": "markdown",
      "metadata": {
        "id": "9ZMUajnqH2-Y"
      },
      "source": [
        "## NLTK: the Natural Language (Processing) Toolkit\n",
        "\n",
        "Please add NLTK to your Python installation, by following the installation instructions at the [NLTK website](http://www.nltk.org/install.html).  A good way to get started is to look at [Chapter 1](http://www.nltk.org/book/ch01.html) of the [NLTK book (NLP with Python)](http://www.nltk.org/book/) and to try some of the instructions there.  \n",
        "\n",
        "The online edition is updated for Python 3, but the printed book, also available in PDF on some websites, is only for Python 2 ([Natural Language Processing with Python: Analyzing Text with the Natural Language Toolkit, Steven Bird, Ewan Klein, and Edward Loper, O'Reilly Media, 2009](http://shop.oreilly.com/product/9780596516499.do)). \n",
        "\n",
        "To use NLTK in Jupyter, all you need is to `import nltk` before you need it.  You must use the prefix `nltk.` unless you write for instance: `from nltk.book import *` which will import and define several text collections (a.k.a corpora).  NLTK can download from the associated website a large number of corpora.  NLTK has a download manager which can be called from a Python interpreter (not a notebook) using `nltk.download()`."
      ]
    },
    {
      "cell_type": "code",
      "execution_count": 1,
      "metadata": {
        "id": "Ag3NhzenH2-Z",
        "colab": {
          "base_uri": "https://localhost:8080/"
        },
        "outputId": "9b9eca3d-60ea-4915-a144-b861fe80d29c"
      },
      "outputs": [
        {
          "output_type": "stream",
          "name": "stdout",
          "text": [
            "[nltk_data] Downloading package punkt to /root/nltk_data...\n",
            "[nltk_data]   Package punkt is already up-to-date!\n"
          ]
        },
        {
          "output_type": "execute_result",
          "data": {
            "text/plain": [
              "True"
            ]
          },
          "metadata": {},
          "execution_count": 1
        }
      ],
      "source": [
        "import nltk\n",
        "#from nltk.book import *\n",
        "\n",
        "nltk.download('punkt')"
      ]
    },
    {
      "cell_type": "markdown",
      "metadata": {
        "id": "QGG1sLKbH2-a"
      },
      "source": [
        "To verify your NLTK library, please define a list of words called `sentence1`, print its length (`len()`) and use `nltk.bigrams` to generate all bigrams from it, i.e. pairs of consecutive words.  You can see an example in [Sec. 3.3 of Ch. 1 of the NLTK book](http://www.nltk.org/book/ch01.html#collocations-and-bigrams).  Please also sort bigrams alphabetically."
      ]
    },
    {
      "cell_type": "code",
      "execution_count": 2,
      "metadata": {
        "id": "dS63kYeKH2-b",
        "colab": {
          "base_uri": "https://localhost:8080/"
        },
        "outputId": "623eb273-49d7-4362-ca8c-debcacdcd80a"
      },
      "outputs": [
        {
          "output_type": "stream",
          "name": "stdout",
          "text": [
            "Length:  10\n",
            "[('Today', 'the'), ('in', 'the'), ('is', 'super'), ('nice', 'in'), ('super', 'nice'), ('swiss', 'alps'), ('the', 'swiss'), ('the', 'weather'), ('weather', 'is')]\n"
          ]
        }
      ],
      "source": [
        "sentence1 = [\"Today\", \"the\", \"weather\", \"is\", \"super\", \"nice\", \"in\", \"the\", \"swiss\", \"alps\"]\n",
        "print(\"Length: \", len(sentence1))\n",
        "bigrams = list(nltk.bigrams(sentence1))\n",
        "print(sorted(bigrams))"
      ]
    },
    {
      "cell_type": "markdown",
      "metadata": {
        "id": "yRgCwOVoH2-b"
      },
      "source": [
        "## Using NLTK to download, tokenize, and save a text\n",
        "\n",
        "Using inspiration from [Chapter 3 (3.1. Processing Raw Text) of the NLTK book](http://www.nltk.org/book/ch03.html), get a book from the Gutenberg Project in text format.   What is its length? Are these bytes or characters? If you are curious about \"special\" characters, you can refer to [Python's documentation of Unicode support](https://docs.python.org/3.8/howto/unicode.html).)"
      ]
    },
    {
      "cell_type": "code",
      "execution_count": 3,
      "metadata": {
        "id": "6w29v3SIH2-c",
        "colab": {
          "base_uri": "https://localhost:8080/"
        },
        "outputId": "4409828a-ddc7-47d2-83a0-fe2f38e01350"
      },
      "outputs": [
        {
          "output_type": "stream",
          "name": "stdout",
          "text": [
            "Length:  1176812\n",
            "Type:  <class 'str'>\n"
          ]
        }
      ],
      "source": [
        "from urllib import request # you may need to: pip install urllib\n",
        "# Please write your Python code below and execute it.\n",
        "url = \"http://www.gutenberg.org/files/2554/2554-0.txt\"\n",
        "response = request.urlopen(url)\n",
        "raw = response.read().decode('utf8')\n",
        "\n",
        "print(\"Length: \", len(raw))\n",
        "print(\"Type: \", type(raw))\n",
        "\n",
        "# replace special characters\n",
        "raw = raw.replace('\\n', '')\n",
        "raw = raw.replace('\\r', ' ')\n",
        "raw = raw.replace('\\ufeff', '')"
      ]
    },
    {
      "cell_type": "markdown",
      "metadata": {
        "id": "2hLbEzd8H2-d"
      },
      "source": [
        "We now want to keep only the meaningful text from the book, without the header and the final license. Determine, either by spotting the position of certain initial and final strings, or simply by trial and error, how much your should trim from the beginning and from the end in order to keep only the actual text of the book. Then save the result into a new string. What is its length?"
      ]
    },
    {
      "cell_type": "code",
      "execution_count": 4,
      "metadata": {
        "id": "IwQqhSF-H2-e",
        "colab": {
          "base_uri": "https://localhost:8080/"
        },
        "outputId": "4de1859e-fa51-4877-9163-7ec6e99612d9"
      },
      "outputs": [
        {
          "output_type": "stream",
          "name": "stdout",
          "text": [
            "Starting position of book:  5463\n",
            "Ending position of book:  1135953\n"
          ]
        }
      ],
      "source": [
        "# Please write your Python code below and execute it.\n",
        "import re\n",
        "\n",
        "print(\"Starting position of book: \", re.search(\"On an exceptionally hot\", raw).start())\n",
        "print(\"Ending position of book: \", re.search(\"END OF THE PROJECT GUTENBERG\", raw).start()-4)\n"
      ]
    },
    {
      "cell_type": "code",
      "source": [
        "book = raw[5463:1135953]\n",
        "print(\"Length: \", len(book))"
      ],
      "metadata": {
        "colab": {
          "base_uri": "https://localhost:8080/"
        },
        "id": "DR6q9Kilkcnd",
        "outputId": "b9f7fabe-d55e-4a29-f0b3-d44d356104db"
      },
      "execution_count": 5,
      "outputs": [
        {
          "output_type": "stream",
          "name": "stdout",
          "text": [
            "Length:  1130490\n"
          ]
        }
      ]
    },
    {
      "cell_type": "markdown",
      "metadata": {
        "id": "8-GwINuJH2-e"
      },
      "source": [
        "We will first segment the text into sentences, then tokenize each sentence, i.e. segment it into tokens (words and punctuations).  We can also tokenize the entire text without segmenting it into sentences first.  We will use the following NLTK functions:\n",
        "* `nltk.sent_tokenize(...)` (documented [here](https://www.nltk.org/api/nltk.tokenize.html#nltk.tokenize.word_tokenize)) (usually, only word segmentation is called *tokenization*, but NLTK uses this name for both functions)\n",
        "* `nltk.word_tokenize(...)` (documented [here](https://www.nltk.org/api/nltk.tokenize.html#nltk.tokenize.sent_tokenize))"
      ]
    },
    {
      "cell_type": "markdown",
      "metadata": {
        "id": "-76P-hwbH2-f"
      },
      "source": [
        "**Segment the text into sentences with NLTK,** display the number of sentences, and display five sentences.  What do you think about the quality of the segmentation?  If you think that some special characters degrade the results, you can go back and replace them in the full text with `.replace('s1', 's2')`."
      ]
    },
    {
      "cell_type": "code",
      "execution_count": 6,
      "metadata": {
        "scrolled": true,
        "id": "B9bxbvG_H2-f",
        "colab": {
          "base_uri": "https://localhost:8080/"
        },
        "outputId": "1c6e3eac-acae-4b83-8b3e-ba8036df7f00"
      },
      "outputs": [
        {
          "output_type": "stream",
          "name": "stdout",
          "text": [
            "Number of sentences:  11906\n",
            "['On an exceptionally hot evening early in July a young man came out of the garret in which he lodged in S. Place and walked slowly, as though in hesitation, towards K. bridge.', 'He had successfully avoided meeting his landlady on the staircase.', 'His garret was under the roof of a high, five-storied house and was more like a cupboard than a room.', 'The landlady who provided him with garret, dinners, and attendance, lived on the floor below, and every time he went out he was obliged to pass her kitchen, the door of which invariably stood open.', 'And each time he passed, the young man had a sick, frightened feeling, which made him scowl and feel ashamed.']\n"
          ]
        }
      ],
      "source": [
        "# Please write your Python code in this cell and execute it.\n",
        "book_sentences = nltk.sent_tokenize(book)\n",
        "print(\"Number of sentences: \", len(book_sentences))\n",
        "print(book_sentences[:5])"
      ]
    },
    {
      "cell_type": "code",
      "execution_count": 7,
      "metadata": {
        "id": "5bdKY41aH2-g"
      },
      "outputs": [],
      "source": [
        "# If needed, here is how to save the result, with one sentence per line.\n",
        "import os\n",
        "filename1 = \"sample_text_1.txt\"\n",
        "# For a local file, this is the relative path with respect to the notebook\n",
        "# In Colab, use a path like this: /content/gdrive/My Drive/sample_text_1.txt\n",
        "if os.path.exists(filename1): \n",
        "    os.remove(filename1)\n",
        "fd = open(filename1, 'a', encoding='utf8')\n",
        "for s in book_sentences:\n",
        "    fd.write(s + '\\r\\n')\n",
        "fd.close()"
      ]
    },
    {
      "cell_type": "markdown",
      "metadata": {
        "id": "5pVlyUJIH2-g"
      },
      "source": [
        "**Segment each sentence into tokens (i.e., words and punctuations),**  store the result in a new variable (a list of lists), and display the same five sentences as above."
      ]
    },
    {
      "cell_type": "code",
      "execution_count": 8,
      "metadata": {
        "id": "7N7m-3rzH2-g",
        "colab": {
          "base_uri": "https://localhost:8080/"
        },
        "outputId": "5a23d533-5ee3-437e-8005-210e785956de"
      },
      "outputs": [
        {
          "output_type": "stream",
          "name": "stdout",
          "text": [
            "[['On', 'an', 'exceptionally', 'hot', 'evening', 'early', 'in', 'July', 'a', 'young', 'man', 'came', 'out', 'of', 'the', 'garret', 'in', 'which', 'he', 'lodged', 'in', 'S.', 'Place', 'and', 'walked', 'slowly', ',', 'as', 'though', 'in', 'hesitation', ',', 'towards', 'K.', 'bridge', '.'], ['He', 'had', 'successfully', 'avoided', 'meeting', 'his', 'landlady', 'on', 'the', 'staircase', '.'], ['His', 'garret', 'was', 'under', 'the', 'roof', 'of', 'a', 'high', ',', 'five-storied', 'house', 'and', 'was', 'more', 'like', 'a', 'cupboard', 'than', 'a', 'room', '.'], ['The', 'landlady', 'who', 'provided', 'him', 'with', 'garret', ',', 'dinners', ',', 'and', 'attendance', ',', 'lived', 'on', 'the', 'floor', 'below', ',', 'and', 'every', 'time', 'he', 'went', 'out', 'he', 'was', 'obliged', 'to', 'pass', 'her', 'kitchen', ',', 'the', 'door', 'of', 'which', 'invariably', 'stood', 'open', '.'], ['And', 'each', 'time', 'he', 'passed', ',', 'the', 'young', 'man', 'had', 'a', 'sick', ',', 'frightened', 'feeling', ',', 'which', 'made', 'him', 'scowl', 'and', 'feel', 'ashamed', '.']]\n"
          ]
        }
      ],
      "source": [
        "# Please write your Python code in this cell and execute it.\n",
        "book_tokens_from_sentence = [nltk.word_tokenize(sentence) for sentence in book_sentences]\n",
        "print(book_tokens_from_sentence[:5])"
      ]
    },
    {
      "cell_type": "markdown",
      "metadata": {
        "id": "I2a7KrxzH2-g"
      },
      "source": [
        "How many tokens are there in total?"
      ]
    },
    {
      "cell_type": "code",
      "execution_count": 9,
      "metadata": {
        "id": "xQzJLuD8H2-h",
        "colab": {
          "base_uri": "https://localhost:8080/"
        },
        "outputId": "ec0afcbc-5ad6-46d7-c813-c2908d791b4a"
      },
      "outputs": [
        {
          "output_type": "stream",
          "name": "stdout",
          "text": [
            "Amount of tokens:  253398\n"
          ]
        }
      ],
      "source": [
        "# Please write your Python code in this cell and execute it.\n",
        "print(\"Amount of tokens: \", sum([len(sentence) for sentence in book_tokens_from_sentence]))"
      ]
    },
    {
      "cell_type": "markdown",
      "metadata": {
        "id": "zaU-xr8lH2-h"
      },
      "source": [
        "**Tokenize the initial text without segmenting it into sentences,** and compare the resulting total number of tokens with the one obtained above."
      ]
    },
    {
      "cell_type": "code",
      "execution_count": 10,
      "metadata": {
        "id": "XJRBnP25H2-h",
        "colab": {
          "base_uri": "https://localhost:8080/"
        },
        "outputId": "f7460c91-a934-4444-9115-4a7cc28eb3b8"
      },
      "outputs": [
        {
          "output_type": "stream",
          "name": "stdout",
          "text": [
            "Amount of tokens:  253398\n",
            "Difference in length between approaches:  0\n"
          ]
        }
      ],
      "source": [
        "# Please write your Python code in this cell and execute it.\n",
        "book_tokens = nltk.word_tokenize(book)\n",
        "print(\"Amount of tokens: \", len(book_tokens))\n",
        "print(\"Difference in length between approaches: \", sum([len(sentence) for sentence in book_tokens_from_sentence]) - len(book_tokens))"
      ]
    },
    {
      "cell_type": "markdown",
      "metadata": {
        "id": "jZbwoUvRH2-h"
      },
      "source": [
        "**Find the size of the vocabulary of your text** (the unique *word types*) by converting the list of words (the *tokens*) to a Python `set`.  Note that these *types* include punctuations and other symbols found through tokenization, and upper/lower case letters are different.  Display all words longer than 15 characters and not containing a hyphen (-)."
      ]
    },
    {
      "cell_type": "code",
      "execution_count": 11,
      "metadata": {
        "id": "LvxJfuUwH2-i",
        "colab": {
          "base_uri": "https://localhost:8080/"
        },
        "outputId": "97edaf24-5732-489a-c951-9aa1ae58f91a"
      },
      "outputs": [
        {
          "output_type": "execute_result",
          "data": {
            "text/plain": [
              "['circumstantially',\n",
              " 'enthusiastically',\n",
              " 'disproportionate',\n",
              " 'superciliousness',\n",
              " 'indistinguishable',\n",
              " 'misunderstanding',\n",
              " 'indiscriminately',\n",
              " 'disproportionately',\n",
              " '_psychologically_']"
            ]
          },
          "metadata": {},
          "execution_count": 11
        }
      ],
      "source": [
        "# Please write your Python code in this cell and execute it.\n",
        "# So should be all lowercase etc. or not? \n",
        "unique_tokens = set(book_tokens)\n",
        "unique_tokens_15 = [token for token in unique_tokens if len(token) > 15 and \"-\" not in token]\n",
        "unique_tokens_15"
      ]
    },
    {
      "cell_type": "markdown",
      "metadata": {
        "id": "a5-QuhsgH2-i"
      },
      "source": [
        "**What is the type-token ratio (TTR) of your text?**"
      ]
    },
    {
      "cell_type": "code",
      "execution_count": 12,
      "metadata": {
        "id": "5STe03vcH2-i",
        "colab": {
          "base_uri": "https://localhost:8080/"
        },
        "outputId": "df08e439-7811-4a05-c666-cc8bba631855"
      },
      "outputs": [
        {
          "output_type": "stream",
          "name": "stdout",
          "text": [
            "Type to token ratio:  23.01107882310207\n"
          ]
        }
      ],
      "source": [
        "print(\"Type to token ratio: \", len(book_tokens)/len(unique_tokens))"
      ]
    },
    {
      "cell_type": "markdown",
      "metadata": {
        "id": "Bdaw2_7lH2-i"
      },
      "source": [
        "## Computing statistics with NLTK\n",
        "You can create a `nltk.Text` object from the tokens of the text, without sentence segmentation.  This enables you  to compute statistics using NLTK functions.  [Chapter 1 of the NLTK book](http://www.nltk.org/book/ch01.html) provides examples of operations than can be done on texts.\n",
        "\n",
        "NLTK Texts can in fact store one of the following text formats:\n",
        "1. a string;\n",
        "2. the list of all words (list of strings);\n",
        "3. the list of all sentences (list of lists of strings).\n",
        "\n",
        "However, only option (2) allows the correct use of counting methods for NLTK Texts.   Note that `nltk.word_tokenize()` and `nltk.sent_tokenize()` only apply to strings, not to `ntlk.Text` objects, even if they store a string."
      ]
    },
    {
      "cell_type": "markdown",
      "metadata": {
        "id": "ZaCM2aS-H2-j"
      },
      "source": [
        "**Create a `nltk.Text` object** from the tokenized version of your text (without sentence segmentation)."
      ]
    },
    {
      "cell_type": "code",
      "execution_count": 13,
      "metadata": {
        "id": "S3V7ypWlH2-j"
      },
      "outputs": [],
      "source": [
        "# Please write your Python code in this cell and execute it.\n",
        "text = nltk.Text(book_tokens)"
      ]
    },
    {
      "cell_type": "markdown",
      "metadata": {
        "id": "bHDHld3pH2-j"
      },
      "source": [
        "NLTK can compute word frequencies for a given text, yielding a new object called a frequency distribution (`FreqDist`): see [Sec. 3.1 of Ch. 1 of the NLTK book](http://www.nltk.org/book/ch01.html#frequency-distributions).  Using such an object, we can get the most frequent words.  \n",
        "\n",
        "**Construct the frequency distribution** of your text and use the `most_common` method of the object to display words longer than 4 characters among the 50 most frequent words."
      ]
    },
    {
      "cell_type": "code",
      "execution_count": 14,
      "metadata": {
        "id": "f-T01zPDH2-j",
        "colab": {
          "base_uri": "https://localhost:8080/"
        },
        "outputId": "e8631dfe-0b5f-4a24-e697-270ca58f2dd3"
      },
      "outputs": [
        {
          "output_type": "execute_result",
          "data": {
            "text/plain": [
              "[('Raskolnikov', 782)]"
            ]
          },
          "metadata": {},
          "execution_count": 14
        }
      ],
      "source": [
        "# Please write your Python code in this cell and execute it.\n",
        "fdist = nltk.FreqDist(text)\n",
        "[token for token in fdist.most_common(50) if len(token[0]) > 4]"
      ]
    },
    {
      "cell_type": "markdown",
      "metadata": {
        "id": "_YYLoyRuH2-j"
      },
      "source": [
        "**Display the cumulative frequency plot** of the 50 most frequent words of your text, for instance using examples from [Sec. 3.1 of Ch. 1 of the NLTK book](http://www.nltk.org/book/ch01.html#frequency-distributions).  You can either use the plotting functions from NLTK, or create two lists called `x_values` and `y_values`) and generate a plot with `plt.plot(x_values, y_values)`."
      ]
    },
    {
      "cell_type": "code",
      "execution_count": 15,
      "metadata": {
        "id": "Lfub4M3AH2-j"
      },
      "outputs": [],
      "source": [
        "# Before using matplotlib to display graphs inline, you must execute \n",
        "# the following two lines (assuming you already installed the library).\n",
        "import matplotlib.pyplot as plt\n",
        "%matplotlib inline"
      ]
    },
    {
      "cell_type": "code",
      "execution_count": 16,
      "metadata": {
        "id": "4riAhp8mH2-j",
        "colab": {
          "base_uri": "https://localhost:8080/",
          "height": 328
        },
        "outputId": "354032db-65b7-4d4e-be34-122a5afebd9f"
      },
      "outputs": [
        {
          "output_type": "display_data",
          "data": {
            "image/png": "[encoded data removed]",
            "text/plain": [
              "<Figure size 432x288 with 1 Axes>"
            ]
          },
          "metadata": {
            "needs_background": "light"
          }
        }
      ],
      "source": [
        "# Please write your Python code in this cell and execute it.\n",
        "fdist.plot(50, cumulative=True)"
      ]
    },
    {
      "cell_type": "markdown",
      "metadata": {
        "id": "4Mwvip6AH2-k"
      },
      "source": [
        "Generate a list of the number of occurrences of each word type, in decreasing order, from the `FreqDist` object.  Plot for the first 100 ranks the number of occurrences on the *y&nbsp;* axis and the rank of each value (1, 2, 3, ..., 100) on the *x&nbsp;* axis, using a log-log scale.  Add the plot of the function *y = a/x'b*, trying to set *a&nbsp;* and *b&nbsp;* so that the two lines are as close as possible (by trial and error, not using a formal method).  The behavior is in fact predicted by [Zipf's law](https://en.wikipedia.org/wiki/Zipf%27s_law)."
      ]
    },
    {
      "cell_type": "code",
      "execution_count": 17,
      "metadata": {
        "id": "HrH1WQHWH2-k",
        "colab": {
          "base_uri": "https://localhost:8080/",
          "height": 304
        },
        "outputId": "abfd2d1f-b9eb-40d2-e690-440fcc5fed3c"
      },
      "outputs": [
        {
          "output_type": "execute_result",
          "data": {
            "text/plain": [
              "[<matplotlib.lines.Line2D at 0x7f0aaff13110>,\n",
              " <matplotlib.lines.Line2D at 0x7f0aaff13350>]"
            ]
          },
          "metadata": {},
          "execution_count": 17
        },
        {
          "output_type": "display_data",
          "data": {
            "image/png": "[encoded data removed]",
            "text/plain": [
              "<Figure size 432x288 with 1 Axes>"
            ]
          },
          "metadata": {
            "needs_background": "light"
          }
        }
      ],
      "source": [
        "# Please write your Python code in this cell and execute it.\n",
        "occurrence = [token[1] for token in fdist.most_common(100)]\n",
        "occurrence.sort(reverse=True)\n",
        "# y = a / x + b ??\n",
        "zipf = [39000/(x+3) for x in range(100)]\n",
        "\n",
        "\n",
        "ax = plt.gca()\n",
        "ax.set_xscale('log')\n",
        "plt.plot(range(100), occurrence, zipf)\n",
        "\n"
      ]
    },
    {
      "cell_type": "markdown",
      "metadata": {
        "id": "WGbolgXHH2-k"
      },
      "source": [
        "## Processing markup with Beautiful Soup\n",
        "To extract text from an HTML or XML file, you can use the `BeautifulSoup` Python package.  Some examples are found in  [Chapter 3 of the NLTK book](http://www.nltk.org/book/ch03.html).  The simplest way is using `get_text`, but this will also get text from tables, image captions, etc. You can also check the \n",
        "[BeautifulSoup documentation](https://beautiful-soup-4.readthedocs.io/en/latest/) or tutorials [here](https://matix.io/extract-text-from-webpage-using-beautifulsoup-and-python/) or [here](https://www.pluralsight.com/guides/extracting-data-html-beautifulsoup)."
      ]
    },
    {
      "cell_type": "code",
      "execution_count": 18,
      "metadata": {
        "id": "QbcaM9V5H2-k"
      },
      "outputs": [],
      "source": [
        "from urllib import request # if needed\n",
        "from bs4 import BeautifulSoup"
      ]
    },
    {
      "cell_type": "code",
      "execution_count": 19,
      "metadata": {
        "id": "XcoGFyQGH2-k"
      },
      "outputs": [],
      "source": [
        "# Sample code : extracted text is the \"raw2\" string.\n",
        "url2 = \"https://en.wikipedia.org/wiki/Switzerland\" \n",
        "response2 = request.urlopen(url2)\n",
        "html2 = response2.read().decode('utf8')\n",
        "raw2 = BeautifulSoup(html2).get_text()"
      ]
    },
    {
      "cell_type": "markdown",
      "metadata": {
        "id": "8Z5LszHHH2-k"
      },
      "source": [
        "**What are the number of tokens, types and TTR** of the Wikipedia page at `url2`?"
      ]
    },
    {
      "cell_type": "code",
      "execution_count": 20,
      "metadata": {
        "id": "R_zCAzekH2-l",
        "colab": {
          "base_uri": "https://localhost:8080/"
        },
        "outputId": "d860d300-1c81-465e-8f62-3dd5b4c1468d"
      },
      "outputs": [
        {
          "output_type": "stream",
          "name": "stdout",
          "text": [
            "Amount of tokens:  33943\n",
            "Amount of unique tokens:  6861\n",
            "Type to token ratio:  4.947238011951611\n"
          ]
        }
      ],
      "source": [
        "# Please write your Python code in this cell and execute it.\n",
        "wiki_tokens = nltk.word_tokenize(raw2)\n",
        "print(\"Amount of tokens: \", len(wiki_tokens))\n",
        "unique_wiki_tokens = set(wiki_tokens)\n",
        "print(\"Amount of unique tokens: \", len(unique_wiki_tokens))\n",
        "print(\"Type to token ratio: \", len(wiki_tokens)/len(unique_wiki_tokens))"
      ]
    },
    {
      "cell_type": "markdown",
      "metadata": {
        "id": "N_OIBKLvH2-l"
      },
      "source": [
        "## More advanced pre-processing options\n",
        "Please read and experiment with the notebook `MSE_AnTeDe_TextPreprocessingDemo.ipynb`, where you will find more advanced pre-processing options:\n",
        "1. a set of NLTK functions for lemmatization and stemming;\n",
        "2. the in-house class `TextPreprocessing`;\n",
        "3. gensim's `preprocess_documents` function.\n",
        "\n",
        "The underlying definitions and methods of some of them will be presented in the following lessons of AnTeDe, and you will be able to use them in future lab work."
      ]
    },
    {
      "cell_type": "markdown",
      "metadata": {
        "id": "J-d4uEIwH2-l"
      },
      "source": [
        "## End of AnTeDe Lab 1\n",
        "Please rerun anew all cells via \"Runtime > Restart and run all\", save this completed notebook, compress it to a *zip* file, and upload it to Moodle."
      ]
    }
  ],
  "metadata": {
    "kernelspec": {
      "display_name": "Python 3",
      "language": "python",
      "name": "python3"
    },
    "language_info": {
      "codemirror_mode": {
        "name": "ipython",
        "version": 3
      },
      "file_extension": ".py",
      "mimetype": "text/x-python",
      "name": "python",
      "nbconvert_exporter": "python",
      "pygments_lexer": "ipython3",
      "version": "3.8.5"
    },
    "colab": {
      "name": "MSE_AnTeDe_Lab1_adrian_willi.ipynb",
      "provenance": [],
      "collapsed_sections": []
    }
  },
  "nbformat": 4,
  "nbformat_minor": 0
}