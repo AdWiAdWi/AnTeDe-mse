{
 "cells": [
  {
   "cell_type": "markdown",
   "metadata": {
    "id": "E_WBq3DbTfUs"
   },
   "source": [
    "# AnTeDe Lab B: using PoS taggers \n",
    "\n",
    "## Session goal\n",
    "\n",
    "The goal of this session is to help you familiarize with PoS tagging. We'll be using NLTK, Stanza, and Spacy.\n",
    "For Spacy, in addition to *pip install spacy*, you'll need to run *python -m spacy download en_core_web_sm*\n"
   ]
  },
  {
   "cell_type": "code",
   "execution_count": 2,
   "metadata": {
    "colab": {
     "base_uri": "https://localhost:8080/",
     "height": 1000,
     "referenced_widgets": [
      "11b1d9e3d7ce4da48ecf405138b8ddae",
      "8cce634290c642c7911c56dd82114b7f",
      "0b4db9d6bed64027990f91fe3078ab18",
      "baad568435db413a9e1e5f7264b7505a",
      "8b750ce587274a3c99f28674e2623237",
      "6bde5a7f039346199afa7caeaa9e9d46",
      "ac15c4a7597d406697b10bb46e8ec3ed",
      "58b70cb9df1b4fd590e47be4bad456f1",
      "7ab70222a8a94b7b873ea3b5d65e6551",
      "c574ca5744b54cc69bd9efc8a7d8dfb2",
      "60a234df13eb4d3387484947bd593186"
     ]
    },
    "id": "cel-uA9PTfUu",
    "outputId": "0c70b9f7-3858-4364-989e-7510e83520ad",
    "scrolled": true
   },
   "outputs": [
    {
     "name": "stderr",
     "output_type": "stream",
     "text": [
      "[nltk_data] Downloading package averaged_perceptron_tagger to\n",
      "[nltk_data]     C:\\Users\\adria\\AppData\\Roaming\\nltk_data...\n",
      "[nltk_data]   Package averaged_perceptron_tagger is already up-to-\n",
      "[nltk_data]       date!\n",
      "[nltk_data] Downloading package punkt to\n",
      "[nltk_data]     C:\\Users\\adria\\AppData\\Roaming\\nltk_data...\n",
      "[nltk_data]   Package punkt is already up-to-date!\n"
     ]
    },
    {
     "name": "stdout",
     "output_type": "stream",
     "text": [
      "Defaulting to user installation because normal site-packages is not writeable\n",
      "Collecting en-core-web-sm==3.0.0\n",
      "  Downloading https://github.com/explosion/spacy-models/releases/download/en_core_web_sm-3.0.0/en_core_web_sm-3.0.0-py3-none-any.whl (13.7 MB)\n",
      "Requirement already satisfied: spacy<3.1.0,>=3.0.0 in c:\\users\\adria\\appdata\\roaming\\python\\python39\\site-packages (from en-core-web-sm==3.0.0) (3.0.7)\n",
      "Requirement already satisfied: typer<0.4.0,>=0.3.0 in c:\\users\\adria\\appdata\\roaming\\python\\python39\\site-packages (from spacy<3.1.0,>=3.0.0->en-core-web-sm==3.0.0) (0.3.2)\n",
      "Requirement already satisfied: blis<0.8.0,>=0.4.0 in c:\\users\\adria\\appdata\\roaming\\python\\python39\\site-packages (from spacy<3.1.0,>=3.0.0->en-core-web-sm==3.0.0) (0.7.5)\n",
      "Requirement already satisfied: setuptools in c:\\program files\\python39\\lib\\site-packages (from spacy<3.1.0,>=3.0.0->en-core-web-sm==3.0.0) (57.4.0)\n",
      "Requirement already satisfied: spacy-legacy<3.1.0,>=3.0.5 in c:\\users\\adria\\appdata\\roaming\\python\\python39\\site-packages (from spacy<3.1.0,>=3.0.0->en-core-web-sm==3.0.0) (3.0.8)\n",
      "Requirement already satisfied: wasabi<1.1.0,>=0.8.1 in c:\\users\\adria\\appdata\\roaming\\python\\python39\\site-packages (from spacy<3.1.0,>=3.0.0->en-core-web-sm==3.0.0) (0.9.0)\n",
      "Requirement already satisfied: jinja2 in c:\\users\\adria\\appdata\\roaming\\python\\python39\\site-packages (from spacy<3.1.0,>=3.0.0->en-core-web-sm==3.0.0) (3.0.1)\n",
      "Requirement already satisfied: murmurhash<1.1.0,>=0.28.0 in c:\\users\\adria\\appdata\\roaming\\python\\python39\\site-packages (from spacy<3.1.0,>=3.0.0->en-core-web-sm==3.0.0) (1.0.6)\n",
      "Requirement already satisfied: preshed<3.1.0,>=3.0.2 in c:\\users\\adria\\appdata\\roaming\\python\\python39\\site-packages (from spacy<3.1.0,>=3.0.0->en-core-web-sm==3.0.0) (3.0.6)\n",
      "Requirement already satisfied: cymem<2.1.0,>=2.0.2 in c:\\users\\adria\\appdata\\roaming\\python\\python39\\site-packages (from spacy<3.1.0,>=3.0.0->en-core-web-sm==3.0.0) (2.0.6)\n",
      "Requirement already satisfied: numpy>=1.15.0 in c:\\users\\adria\\appdata\\roaming\\python\\python39\\site-packages (from spacy<3.1.0,>=3.0.0->en-core-web-sm==3.0.0) (1.21.3)\n",
      "Requirement already satisfied: thinc<8.1.0,>=8.0.3 in c:\\users\\adria\\appdata\\roaming\\python\\python39\\site-packages (from spacy<3.1.0,>=3.0.0->en-core-web-sm==3.0.0) (8.0.13)\n",
      "Requirement already satisfied: catalogue<2.1.0,>=2.0.4 in c:\\users\\adria\\appdata\\roaming\\python\\python39\\site-packages (from spacy<3.1.0,>=3.0.0->en-core-web-sm==3.0.0) (2.0.6)\n",
      "Requirement already satisfied: pathy>=0.3.5 in c:\\users\\adria\\appdata\\roaming\\python\\python39\\site-packages (from spacy<3.1.0,>=3.0.0->en-core-web-sm==3.0.0) (0.6.1)\n",
      "Requirement already satisfied: requests<3.0.0,>=2.13.0 in c:\\users\\adria\\appdata\\roaming\\python\\python39\\site-packages (from spacy<3.1.0,>=3.0.0->en-core-web-sm==3.0.0) (2.26.0)\n",
      "Requirement already satisfied: pydantic!=1.8,!=1.8.1,<1.9.0,>=1.7.4 in c:\\users\\adria\\appdata\\roaming\\python\\python39\\site-packages (from spacy<3.1.0,>=3.0.0->en-core-web-sm==3.0.0) (1.8.2)\n",
      "Requirement already satisfied: srsly<3.0.0,>=2.4.1 in c:\\users\\adria\\appdata\\roaming\\python\\python39\\site-packages (from spacy<3.1.0,>=3.0.0->en-core-web-sm==3.0.0) (2.4.2)\n",
      "Requirement already satisfied: packaging>=20.0 in c:\\users\\adria\\appdata\\roaming\\python\\python39\\site-packages (from spacy<3.1.0,>=3.0.0->en-core-web-sm==3.0.0) (21.0)\n",
      "Requirement already satisfied: tqdm<5.0.0,>=4.38.0 in c:\\users\\adria\\appdata\\roaming\\python\\python39\\site-packages (from spacy<3.1.0,>=3.0.0->en-core-web-sm==3.0.0) (4.62.3)\n",
      "Requirement already satisfied: pyparsing>=2.0.2 in c:\\users\\adria\\appdata\\roaming\\python\\python39\\site-packages (from packaging>=20.0->spacy<3.1.0,>=3.0.0->en-core-web-sm==3.0.0) (2.4.7)\n",
      "Requirement already satisfied: smart-open<6.0.0,>=5.0.0 in c:\\users\\adria\\appdata\\roaming\\python\\python39\\site-packages (from pathy>=0.3.5->spacy<3.1.0,>=3.0.0->en-core-web-sm==3.0.0) (5.2.1)\n",
      "Requirement already satisfied: typing-extensions>=3.7.4.3 in c:\\users\\adria\\appdata\\roaming\\python\\python39\\site-packages (from pydantic!=1.8,!=1.8.1,<1.9.0,>=1.7.4->spacy<3.1.0,>=3.0.0->en-core-web-sm==3.0.0) (3.7.4.3)\n",
      "Requirement already satisfied: idna<4,>=2.5 in c:\\users\\adria\\appdata\\roaming\\python\\python39\\site-packages (from requests<3.0.0,>=2.13.0->spacy<3.1.0,>=3.0.0->en-core-web-sm==3.0.0) (3.2)\n",
      "Requirement already satisfied: certifi>=2017.4.17 in c:\\users\\adria\\appdata\\roaming\\python\\python39\\site-packages (from requests<3.0.0,>=2.13.0->spacy<3.1.0,>=3.0.0->en-core-web-sm==3.0.0) (2021.5.30)\n",
      "Requirement already satisfied: charset-normalizer~=2.0.0 in c:\\users\\adria\\appdata\\roaming\\python\\python39\\site-packages (from requests<3.0.0,>=2.13.0->spacy<3.1.0,>=3.0.0->en-core-web-sm==3.0.0) (2.0.5)\n",
      "Requirement already satisfied: urllib3<1.27,>=1.21.1 in c:\\users\\adria\\appdata\\roaming\\python\\python39\\site-packages (from requests<3.0.0,>=2.13.0->spacy<3.1.0,>=3.0.0->en-core-web-sm==3.0.0) (1.25.11)\n",
      "Requirement already satisfied: colorama in c:\\users\\adria\\appdata\\roaming\\python\\python39\\site-packages (from tqdm<5.0.0,>=4.38.0->spacy<3.1.0,>=3.0.0->en-core-web-sm==3.0.0) (0.4.4)\n",
      "Requirement already satisfied: click<7.2.0,>=7.1.1 in c:\\users\\adria\\appdata\\roaming\\python\\python39\\site-packages (from typer<0.4.0,>=0.3.0->spacy<3.1.0,>=3.0.0->en-core-web-sm==3.0.0) (7.1.2)\n",
      "Requirement already satisfied: MarkupSafe>=2.0 in c:\\users\\adria\\appdata\\roaming\\python\\python39\\site-packages (from jinja2->spacy<3.1.0,>=3.0.0->en-core-web-sm==3.0.0) (2.0.1)\n",
      "[+] Download and installation successful\n",
      "You can now load the package via spacy.load('en_core_web_sm')\n"
     ]
    },
    {
     "name": "stderr",
     "output_type": "stream",
     "text": [
      "WARNING: You are using pip version 21.2.3; however, version 22.0.4 is available.\n",
      "You should consider upgrading via the 'C:\\Program Files\\Python39\\python.exe -m pip install --upgrade pip' command.\n"
     ]
    },
    {
     "data": {
      "application/vnd.jupyter.widget-view+json": {
       "model_id": "713424f486684daabfd75c9ce6e7470f",
       "version_major": 2,
       "version_minor": 0
      },
      "text/plain": [
       "Downloading https://raw.githubusercontent.com/stanfordnlp/stanza-resources/main/resources_1.3.0.json:   0%|   …"
      ]
     },
     "metadata": {},
     "output_type": "display_data"
    },
    {
     "name": "stderr",
     "output_type": "stream",
     "text": [
      "2022-04-07 11:16:36 INFO: Downloading default packages for language: en (English)...\n"
     ]
    },
    {
     "data": {
      "application/vnd.jupyter.widget-view+json": {
       "model_id": "05f6638aeb274b5e982c529fda5bf947",
       "version_major": 2,
       "version_minor": 0
      },
      "text/plain": [
       "Downloading https://huggingface.co/stanfordnlp/stanza-en/resolve/v1.3.0/models/default.zip:   0%|          | 0…"
      ]
     },
     "metadata": {},
     "output_type": "display_data"
    },
    {
     "name": "stderr",
     "output_type": "stream",
     "text": [
      "2022-04-07 11:17:36 INFO: Finished downloading models and saved to C:\\Users\\adria\\stanza_resources.\n",
      "2022-04-07 11:17:36 WARNING: Can not find mwt: default from official model list. Ignoring it.\n",
      "2022-04-07 11:17:36 INFO: Loading these models for language: en (English):\n",
      "========================\n",
      "| Processor | Package  |\n",
      "------------------------\n",
      "| tokenize  | combined |\n",
      "| pos       | combined |\n",
      "| lemma     | combined |\n",
      "========================\n",
      "\n",
      "2022-04-07 11:17:36 INFO: Use device: cpu\n",
      "2022-04-07 11:17:36 INFO: Loading: tokenize\n",
      "2022-04-07 11:17:37 INFO: Loading: pos\n",
      "2022-04-07 11:17:37 INFO: Loading: lemma\n",
      "2022-04-07 11:17:37 INFO: Done loading processors!\n"
     ]
    }
   ],
   "source": [
    "#! pip install stanza\n",
    "import stanza\n",
    "\n",
    "\n",
    "from nltk.tag import PerceptronTagger\n",
    "from nltk.tokenize import word_tokenize\n",
    "\n",
    "from nltk import download\n",
    "download('averaged_perceptron_tagger')\n",
    "download('punkt')\n",
    "\n",
    "import spacy\n",
    "!python -m spacy download en_core_web_sm\n",
    "\n",
    "text='I really like this class. This lab is going to be fun.'\n",
    "spacy_analyzer = spacy.load('en_core_web_sm')\n",
    "\n",
    "stanza.download('en')\n",
    "stanza_pipeline = stanza.Pipeline(lang='en', processors='tokenize,mwt,pos,lemma')\n",
    "\n",
    "\n",
    "def run_stanza(text):\n",
    "    \n",
    "    pairs=[]    \n",
    "    doc = stanza_pipeline(text)\n",
    "    for sent in doc.sentences:\n",
    "        for word in sent.words:\n",
    "            pairs.append((word.text, word.xpos))\n",
    "    return pairs        \n",
    "\n",
    "def run_spacy(text):\n",
    "    \n",
    "    doc = spacy_analyzer(text)\n",
    "    return [(token, token.tag_) for token in doc]\n",
    "\n",
    "def run_nltk (text):\n",
    "    \n",
    "    tagger = PerceptronTagger()\n",
    "    return tagger.tag(word_tokenize(text))\n",
    "\n",
    "       \n"
   ]
  },
  {
   "cell_type": "code",
   "execution_count": 3,
   "metadata": {
    "id": "XGViCBUWTfUv"
   },
   "outputs": [],
   "source": [
    "def visualize_pos_results (text):\n",
    "    \n",
    "    stanza_pairs = run_stanza(text)    \n",
    "    spacy_pairs = run_spacy(text)   \n",
    "    nltk_pairs = run_nltk(text) \n",
    "\n",
    "    if len(stanza_pairs)==len(spacy_pairs)==len(nltk_pairs):\n",
    "        tokens = [x[0] for x in stanza_pairs]\n",
    "        stanza_tags = [x[1] for x in stanza_pairs]\n",
    "        spacy_tags = [x[1] for x in spacy_pairs]\n",
    "        nltk_tags = [x[1] for x in nltk_pairs]\n",
    "\n",
    "        import pandas as pd    \n",
    "        df=pd.DataFrame(columns = ['tokens','Stanza', 'NLTK', 'Spacy'])   \n",
    "        df['tokens']=tokens\n",
    "        df['Stanza']=stanza_tags\n",
    "        df['NLTK']=nltk_tags\n",
    "        df['Spacy']=spacy_tags\n",
    "\n",
    "        print (df)\n",
    "\n",
    "    else:\n",
    "        print ('-'*30)\n",
    "        print ('Stanza')\n",
    "        print (stanza_pairs)\n",
    "        print ('-'*30)\n",
    "        print ('NLTK')\n",
    "        print (nltk_pairs)\n",
    "        print ('-'*30)\n",
    "        print ('Spacy')\n",
    "        print (spacy_pairs)\n",
    "        \n",
    "        "
   ]
  },
  {
   "cell_type": "code",
   "execution_count": 6,
   "metadata": {
    "colab": {
     "base_uri": "https://localhost:8080/",
     "height": 70
    },
    "id": "xBxPphKaTfUx",
    "outputId": "38e2c308-636b-465c-8561-e43991b07b5a"
   },
   "outputs": [
    {
     "name": "stderr",
     "output_type": "stream",
     "text": [
      "[nltk_data] Downloading package tagsets to\n",
      "[nltk_data]     C:\\Users\\adria\\AppData\\Roaming\\nltk_data...\n",
      "[nltk_data]   Package tagsets is already up-to-date!\n"
     ]
    },
    {
     "data": {
      "text/plain": [
       "'WH-determiner'"
      ]
     },
     "execution_count": 6,
     "metadata": {},
     "output_type": "execute_result"
    }
   ],
   "source": [
    "from nltk.data import load\n",
    "from nltk import download\n",
    "download('tagsets')\n",
    "tagdict = load('help/tagsets/upenn_tagset.pickle')\n",
    "tagdict['WDT'][0]"
   ]
  },
  {
   "cell_type": "code",
   "execution_count": 5,
   "metadata": {
    "colab": {
     "base_uri": "https://localhost:8080/"
    },
    "id": "hKSJ-fdATfUy",
    "outputId": "1d54b8c6-d068-443c-e2fc-bcc3d2daa880"
   },
   "outputs": [
    {
     "name": "stdout",
     "output_type": "stream",
     "text": [
      "           tokens Stanza NLTK Spacy\n",
      "0         Traffic     NN   JJ    NN\n",
      "1      congestion     NN   NN    NN\n",
      "2              in     IN   IN    IN\n",
      "3             the     DT   DT    DT\n",
      "4           Shire    NNP  NNP   NNP\n",
      "5              is    VBZ  VBZ   VBZ\n",
      "6         getting    VBG  VBG   VBG\n",
      "7           worse    JJR  JJR   JJR\n",
      "8               .      .    .     .\n",
      "9           After     IN   IN    IN\n",
      "10             we    PRP  PRP   PRP\n",
      "11         landed    VBD  VBD   VBD\n",
      "12             at     IN   IN    IN\n",
      "13        Baggins    NNP  NNP   NNP\n",
      "14  international     JJ   JJ    JJ\n",
      "15        airport     NN   NN    NN\n",
      "16              ,      ,    ,     ,\n",
      "17             we    PRP  PRP   PRP\n",
      "18            got    VBD  VBD   VBD\n",
      "19          stuck    VBN  VBN   VBN\n",
      "20             on     IN   IN    IN\n",
      "21            the     DT   DT    DT\n",
      "22           ring     NN   NN    NN\n",
      "23           road     NN   NN    NN\n",
      "24         around     IN   IN    IN\n",
      "25       Hobbiton    NNP  NNP   NNP\n",
      "26              .      .    .     .\n"
     ]
    }
   ],
   "source": [
    "sentence = \"Traffic congestion in the Shire is getting worse. After we landed at Baggins international airport, we got stuck on the ring road around Hobbiton.\"\n",
    "visualize_pos_results(sentence)\n"
   ]
  },
  {
   "cell_type": "code",
   "execution_count": 8,
   "metadata": {
    "colab": {
     "base_uri": "https://localhost:8080/"
    },
    "id": "r2CDq4LATfUz",
    "outputId": "2587661b-1caa-486d-e673-e2e17dc15fff"
   },
   "outputs": [
    {
     "name": "stdout",
     "output_type": "stream",
     "text": [
      "  tokens Stanza NLTK Spacy\n",
      "0   Back     VB   RB    RB\n",
      "1     me    PRP  PRP   PRP\n",
      "2     up     RP   RP    RP\n",
      "3      .      .    .     .\n",
      "  tokens Stanza NLTK Spacy\n",
      "0      I    PRP  PRP   PRP\n",
      "1  asked    VBD  VBD   VBD\n",
      "2   them    PRP  PRP   PRP\n",
      "3     to     TO   TO    TO\n",
      "4   back     VB   VB    VB\n",
      "5     me    PRP  PRP   PRP\n",
      "6     up     RP   RP    RP\n",
      "7      .      .    .     .\n",
      "  tokens Stanza  NLTK Spacy\n",
      "0  Watch     VB    VB    VB\n",
      "1   your   PRP$  PRP$  PRP$\n",
      "2   back     NN    NN    NN\n",
      "3      .      .     .     .\n"
     ]
    }
   ],
   "source": [
    "sentence_1='Back me up.'\n",
    "visualize_pos_results(sentence_1)\n",
    "\n",
    "sentence_2='I asked them to back me up.'\n",
    "visualize_pos_results(sentence_2)\n",
    "\n",
    "sentence_3='Watch your back.'\n",
    "visualize_pos_results(sentence_3)"
   ]
  },
  {
   "cell_type": "markdown",
   "metadata": {
    "id": "3pJFIN9yTfU0"
   },
   "source": [
    "**When** can have many multiple PoS tags. "
   ]
  },
  {
   "cell_type": "code",
   "execution_count": 9,
   "metadata": {
    "colab": {
     "base_uri": "https://localhost:8080/"
    },
    "id": "8D1NSrq3TfU0",
    "outputId": "ac597047-0baf-48b5-be67-97f5a457cd28"
   },
   "outputs": [
    {
     "name": "stdout",
     "output_type": "stream",
     "text": [
      "  tokens Stanza NLTK Spacy\n",
      "0   When    WRB  WRB   WRB\n",
      "1    did    VBD  VBD   VBD\n",
      "2    you    PRP  PRP   PRP\n",
      "3   last     VB   JJ    RB\n",
      "4     go     VB   VB    VB\n",
      "5     to     IN   TO    IN\n",
      "6   Bern    NNP  NNP   NNP\n",
      "7      ?      .    .     .\n",
      "     tokens Stanza  NLTK Spacy\n",
      "0     Raise     VB    VB    VB\n",
      "1      your   PRP$  PRP$  PRP$\n",
      "2      hand     NN    NN    NN\n",
      "3      when    WRB   WRB   WRB\n",
      "4       you    PRP   PRP   PRP\n",
      "5       're    VBP   VBP   VBP\n",
      "6  finished    VBN   VBN   VBN\n"
     ]
    }
   ],
   "source": [
    "sentences=['When did you last go to Bern?',   # interrogative adverb\n",
    "'Raise your hand when you\\'re finished']  # conjunction\n",
    "\n",
    "for sentence in sentences:\n",
    "    dflist = visualize_pos_results(sentence)"
   ]
  },
  {
   "cell_type": "code",
   "execution_count": 10,
   "metadata": {
    "colab": {
     "base_uri": "https://localhost:8080/",
     "height": 35
    },
    "id": "XQBbYWmrTfU1",
    "outputId": "1e966462-5286-491c-9d06-c3b979ffdea8"
   },
   "outputs": [
    {
     "data": {
      "text/plain": [
       "'Wh-adverb'"
      ]
     },
     "execution_count": 10,
     "metadata": {},
     "output_type": "execute_result"
    }
   ],
   "source": [
    "tagdict['WRB'][0]"
   ]
  },
  {
   "cell_type": "code",
   "execution_count": 11,
   "metadata": {
    "colab": {
     "base_uri": "https://localhost:8080/",
     "height": 35
    },
    "id": "QvAbx7n-TfU2",
    "outputId": "90c1f025-8d49-40bc-82cb-6918294b2e82"
   },
   "outputs": [
    {
     "data": {
      "text/plain": [
       "'pronoun, possessive'"
      ]
     },
     "execution_count": 11,
     "metadata": {},
     "output_type": "execute_result"
    }
   ],
   "source": [
    "tagdict['PRP$'][0]"
   ]
  },
  {
   "cell_type": "markdown",
   "metadata": {
    "id": "xLQTQjNCTfU2"
   },
   "source": [
    "What's happening in the following example? Which PoS tagger does better?"
   ]
  },
  {
   "cell_type": "code",
   "execution_count": 12,
   "metadata": {
    "colab": {
     "base_uri": "https://localhost:8080/"
    },
    "id": "riCcvwTCTfU4",
    "outputId": "dae62e2d-716e-42ca-89dc-b007ab2a7622"
   },
   "outputs": [
    {
     "name": "stdout",
     "output_type": "stream",
     "text": [
      "        tokens Stanza NLTK Spacy\n",
      "0           An     DT   DT    DT\n",
      "1  experienced     JJ   JJ    JJ\n",
      "2          man     NN   NN    NN\n",
      "3       should     MD   MD    MD\n",
      "4       always     RB   RB    RB\n",
      "5          man     VB   NN    VB\n",
      "6          the     DT   DT    DT\n",
      "7         ship     NN   NN    NN\n",
      "   tokens Stanza NLTK Spacy\n",
      "0   Never     RB   RB    RB\n",
      "1     has    VBZ  VBZ   VBZ\n",
      "2      so     RB   RB    RB\n",
      "3    much     RB   JJ    RB\n",
      "4    been    VBN  VBN   VBN\n",
      "5    owed    VBN  VBN   VBN\n",
      "6      to     IN   TO    IN\n",
      "7      so     RB   RB    RB\n",
      "8    many     JJ   JJ    JJ\n",
      "9      by     IN   IN    IN\n",
      "10     so     RB   IN    RB\n",
      "11    few     JJ   JJ    JJ\n",
      "          tokens Stanza NLTK Spacy\n",
      "0              A     DT   DT    DT\n",
      "1         nation     NN   NN    NN\n",
      "2           will     MD   MD    MD\n",
      "3            not     RB   RB    RB\n",
      "4        survive     VB   VB    VB\n",
      "5        morally     RB   RB    RB\n",
      "6             or     CC   CC    CC\n",
      "7   economically     RB   RB    RB\n",
      "8           when    WRB  WRB   WRB\n",
      "9             so     RB   RB    RB\n",
      "10           few     JJ   JJ    JJ\n",
      "11          have    VBP  VBP   VBP\n",
      "12            so     RB   RB    RB\n",
      "13          much     JJ   JJ    JJ\n",
      "14           and     CC   CC    CC\n",
      "15            so     RB   RB    RB\n",
      "16          many     JJ   JJ    JJ\n",
      "17          have    VBP  VBP   VBP\n",
      "18            so     RB   RB    RB\n",
      "19        little     JJ   JJ    JJ\n"
     ]
    }
   ],
   "source": [
    "sentences=['An experienced man should always man the ship',\n",
    "'Never has so much been owed to so many by so few',\n",
    "           'A nation will not survive morally or economically \\\n",
    "when so few have so much and so many have so little']\n",
    "\n",
    "for sentence in sentences:\n",
    "    dflist = visualize_pos_results(sentence)"
   ]
  },
  {
   "cell_type": "markdown",
   "metadata": {
    "id": "LAnwgQQOTfU4"
   },
   "source": [
    "What's happening in the following examples? "
   ]
  },
  {
   "cell_type": "code",
   "execution_count": 13,
   "metadata": {
    "colab": {
     "base_uri": "https://localhost:8080/"
    },
    "id": "xxUNkNtnTfU4",
    "outputId": "5a05fc81-0b4e-49d2-ba72-fe80c6870839"
   },
   "outputs": [
    {
     "name": "stdout",
     "output_type": "stream",
     "text": [
      "  tokens Stanza NLTK Spacy\n",
      "0   That     DT   DT    DT\n",
      "1   much     RB   JJ    JJ\n",
      "2     is    VBZ  VBZ   VBZ\n",
      "3   true     JJ   JJ    JJ\n",
      "4      .      .    .     .\n",
      "  tokens Stanza NLTK Spacy\n",
      "0      I    PRP  PRP   PRP\n",
      "1     do    VBP  VBP   VBP\n",
      "2    n't     RB   RB    RB\n",
      "3   know     VB   VB    VB\n",
      "4   that     RB   RB    DT\n",
      "5   much     JJ   JJ    JJ\n",
      "6      .      .    .     .\n",
      "        tokens Stanza NLTK Spacy\n",
      "0         That     DT   DT    DT\n",
      "1           's    VBZ  VBZ   VBZ\n",
      "2          not     RB   RB    RB\n",
      "3         that     RB   IN    RB\n",
      "4  interesting     JJ  VBG    JJ\n",
      "5            .      .    .     .\n",
      "  tokens Stanza NLTK Spacy\n",
      "0    How    WRB  WRB   WRB\n",
      "1   much     JJ   JJ    JJ\n",
      "2     is    VBZ  VBZ   VBZ\n",
      "3   true     JJ   JJ    JJ\n",
      "4      ?      .    .     .\n",
      "  tokens Stanza NLTK Spacy\n",
      "0   Many     JJ   JJ    JJ\n",
      "1     of     IN   IN    IN\n",
      "2   them    PRP  PRP   PRP\n",
      "3    are    VBP  VBP   VBP\n",
      "4   here     RB   RB    RB\n",
      "5      .      .    .     .\n",
      "  tokens Stanza NLTK Spacy\n",
      "0   This     DT   DT    DT\n",
      "1     is    VBZ  VBZ   VBZ\n",
      "2   mine    PRP   JJ   PRP\n",
      "3      .      .    .     .\n",
      "     tokens Stanza NLTK Spacy\n",
      "0  Everyone     NN   NN    NN\n",
      "1     knows    VBZ  NNS   VBZ\n"
     ]
    }
   ],
   "source": [
    "sentences = [\n",
    "    'That much is true.',\n",
    "    'I don\\'t know that much.', \n",
    "    'That\\'s not that interesting.',\n",
    "    'How much is true?',\n",
    "    'Many of them are here.',\n",
    "    'This is mine.',\n",
    "    'Everyone knows',\n",
    "    ]\n",
    "for sentence in sentences:\n",
    "    dflist = visualize_pos_results(sentence)"
   ]
  },
  {
   "cell_type": "code",
   "execution_count": 24,
   "metadata": {
    "id": "bj-khgtBTfU5"
   },
   "outputs": [],
   "source": []
  }
 ],
 "metadata": {
  "colab": {
   "name": "MSE_AnTeDe_Lab_b_PoS_basics.ipynb",
   "provenance": []
  },
  "kernelspec": {
   "display_name": "Python 3 (ipykernel)",
   "language": "python",
   "name": "python3"
  },
  "language_info": {
   "codemirror_mode": {
    "name": "ipython",
    "version": 3
   },
   "file_extension": ".py",
   "mimetype": "text/x-python",
   "name": "python",
   "nbconvert_exporter": "python",
   "pygments_lexer": "ipython3",
   "version": "3.9.7"
  },
  "widgets": {
   "application/vnd.jupyter.widget-state+json": {
    "0b4db9d6bed64027990f91fe3078ab18": {
     "model_module": "@jupyter-widgets/controls",
     "model_module_version": "1.5.0",
     "model_name": "FloatProgressModel",
     "state": {
      "_dom_classes": [],
      "_model_module": "@jupyter-widgets/controls",
      "_model_module_version": "1.5.0",
      "_model_name": "FloatProgressModel",
      "_view_count": null,
      "_view_module": "@jupyter-widgets/controls",
      "_view_module_version": "1.5.0",
      "_view_name": "ProgressView",
      "bar_style": "success",
      "description": "",
      "description_tooltip": null,
      "layout": "IPY_MODEL_58b70cb9df1b4fd590e47be4bad456f1",
      "max": 24459,
      "min": 0,
      "orientation": "horizontal",
      "style": "IPY_MODEL_7ab70222a8a94b7b873ea3b5d65e6551",
      "value": 24459
     }
    },
    "11b1d9e3d7ce4da48ecf405138b8ddae": {
     "model_module": "@jupyter-widgets/controls",
     "model_module_version": "1.5.0",
     "model_name": "HBoxModel",
     "state": {
      "_dom_classes": [],
      "_model_module": "@jupyter-widgets/controls",
      "_model_module_version": "1.5.0",
      "_model_name": "HBoxModel",
      "_view_count": null,
      "_view_module": "@jupyter-widgets/controls",
      "_view_module_version": "1.5.0",
      "_view_name": "HBoxView",
      "box_style": "",
      "children": [
       "IPY_MODEL_8cce634290c642c7911c56dd82114b7f",
       "IPY_MODEL_0b4db9d6bed64027990f91fe3078ab18",
       "IPY_MODEL_baad568435db413a9e1e5f7264b7505a"
      ],
      "layout": "IPY_MODEL_8b750ce587274a3c99f28674e2623237"
     }
    },
    "58b70cb9df1b4fd590e47be4bad456f1": {
     "model_module": "@jupyter-widgets/base",
     "model_module_version": "1.2.0",
     "model_name": "LayoutModel",
     "state": {
      "_model_module": "@jupyter-widgets/base",
      "_model_module_version": "1.2.0",
      "_model_name": "LayoutModel",
      "_view_count": null,
      "_view_module": "@jupyter-widgets/base",
      "_view_module_version": "1.2.0",
      "_view_name": "LayoutView",
      "align_content": null,
      "align_items": null,
      "align_self": null,
      "border": null,
      "bottom": null,
      "display": null,
      "flex": null,
      "flex_flow": null,
      "grid_area": null,
      "grid_auto_columns": null,
      "grid_auto_flow": null,
      "grid_auto_rows": null,
      "grid_column": null,
      "grid_gap": null,
      "grid_row": null,
      "grid_template_areas": null,
      "grid_template_columns": null,
      "grid_template_rows": null,
      "height": null,
      "justify_content": null,
      "justify_items": null,
      "left": null,
      "margin": null,
      "max_height": null,
      "max_width": null,
      "min_height": null,
      "min_width": null,
      "object_fit": null,
      "object_position": null,
      "order": null,
      "overflow": null,
      "overflow_x": null,
      "overflow_y": null,
      "padding": null,
      "right": null,
      "top": null,
      "visibility": null,
      "width": null
     }
    },
    "60a234df13eb4d3387484947bd593186": {
     "model_module": "@jupyter-widgets/controls",
     "model_module_version": "1.5.0",
     "model_name": "DescriptionStyleModel",
     "state": {
      "_model_module": "@jupyter-widgets/controls",
      "_model_module_version": "1.5.0",
      "_model_name": "DescriptionStyleModel",
      "_view_count": null,
      "_view_module": "@jupyter-widgets/base",
      "_view_module_version": "1.2.0",
      "_view_name": "StyleView",
      "description_width": ""
     }
    },
    "6bde5a7f039346199afa7caeaa9e9d46": {
     "model_module": "@jupyter-widgets/base",
     "model_module_version": "1.2.0",
     "model_name": "LayoutModel",
     "state": {
      "_model_module": "@jupyter-widgets/base",
      "_model_module_version": "1.2.0",
      "_model_name": "LayoutModel",
      "_view_count": null,
      "_view_module": "@jupyter-widgets/base",
      "_view_module_version": "1.2.0",
      "_view_name": "LayoutView",
      "align_content": null,
      "align_items": null,
      "align_self": null,
      "border": null,
      "bottom": null,
      "display": null,
      "flex": null,
      "flex_flow": null,
      "grid_area": null,
      "grid_auto_columns": null,
      "grid_auto_flow": null,
      "grid_auto_rows": null,
      "grid_column": null,
      "grid_gap": null,
      "grid_row": null,
      "grid_template_areas": null,
      "grid_template_columns": null,
      "grid_template_rows": null,
      "height": null,
      "justify_content": null,
      "justify_items": null,
      "left": null,
      "margin": null,
      "max_height": null,
      "max_width": null,
      "min_height": null,
      "min_width": null,
      "object_fit": null,
      "object_position": null,
      "order": null,
      "overflow": null,
      "overflow_x": null,
      "overflow_y": null,
      "padding": null,
      "right": null,
      "top": null,
      "visibility": null,
      "width": null
     }
    },
    "7ab70222a8a94b7b873ea3b5d65e6551": {
     "model_module": "@jupyter-widgets/controls",
     "model_module_version": "1.5.0",
     "model_name": "ProgressStyleModel",
     "state": {
      "_model_module": "@jupyter-widgets/controls",
      "_model_module_version": "1.5.0",
      "_model_name": "ProgressStyleModel",
      "_view_count": null,
      "_view_module": "@jupyter-widgets/base",
      "_view_module_version": "1.2.0",
      "_view_name": "StyleView",
      "bar_color": null,
      "description_width": ""
     }
    },
    "8b750ce587274a3c99f28674e2623237": {
     "model_module": "@jupyter-widgets/base",
     "model_module_version": "1.2.0",
     "model_name": "LayoutModel",
     "state": {
      "_model_module": "@jupyter-widgets/base",
      "_model_module_version": "1.2.0",
      "_model_name": "LayoutModel",
      "_view_count": null,
      "_view_module": "@jupyter-widgets/base",
      "_view_module_version": "1.2.0",
      "_view_name": "LayoutView",
      "align_content": null,
      "align_items": null,
      "align_self": null,
      "border": null,
      "bottom": null,
      "display": null,
      "flex": null,
      "flex_flow": null,
      "grid_area": null,
      "grid_auto_columns": null,
      "grid_auto_flow": null,
      "grid_auto_rows": null,
      "grid_column": null,
      "grid_gap": null,
      "grid_row": null,
      "grid_template_areas": null,
      "grid_template_columns": null,
      "grid_template_rows": null,
      "height": null,
      "justify_content": null,
      "justify_items": null,
      "left": null,
      "margin": null,
      "max_height": null,
      "max_width": null,
      "min_height": null,
      "min_width": null,
      "object_fit": null,
      "object_position": null,
      "order": null,
      "overflow": null,
      "overflow_x": null,
      "overflow_y": null,
      "padding": null,
      "right": null,
      "top": null,
      "visibility": null,
      "width": null
     }
    },
    "8cce634290c642c7911c56dd82114b7f": {
     "model_module": "@jupyter-widgets/controls",
     "model_module_version": "1.5.0",
     "model_name": "HTMLModel",
     "state": {
      "_dom_classes": [],
      "_model_module": "@jupyter-widgets/controls",
      "_model_module_version": "1.5.0",
      "_model_name": "HTMLModel",
      "_view_count": null,
      "_view_module": "@jupyter-widgets/controls",
      "_view_module_version": "1.5.0",
      "_view_name": "HTMLView",
      "description": "",
      "description_tooltip": null,
      "layout": "IPY_MODEL_6bde5a7f039346199afa7caeaa9e9d46",
      "placeholder": "​",
      "style": "IPY_MODEL_ac15c4a7597d406697b10bb46e8ec3ed",
      "value": "Downloading https://raw.githubusercontent.com/stanfordnlp/stanza-resources/main/resources_1.3.0.json: "
     }
    },
    "ac15c4a7597d406697b10bb46e8ec3ed": {
     "model_module": "@jupyter-widgets/controls",
     "model_module_version": "1.5.0",
     "model_name": "DescriptionStyleModel",
     "state": {
      "_model_module": "@jupyter-widgets/controls",
      "_model_module_version": "1.5.0",
      "_model_name": "DescriptionStyleModel",
      "_view_count": null,
      "_view_module": "@jupyter-widgets/base",
      "_view_module_version": "1.2.0",
      "_view_name": "StyleView",
      "description_width": ""
     }
    },
    "baad568435db413a9e1e5f7264b7505a": {
     "model_module": "@jupyter-widgets/controls",
     "model_module_version": "1.5.0",
     "model_name": "HTMLModel",
     "state": {
      "_dom_classes": [],
      "_model_module": "@jupyter-widgets/controls",
      "_model_module_version": "1.5.0",
      "_model_name": "HTMLModel",
      "_view_count": null,
      "_view_module": "@jupyter-widgets/controls",
      "_view_module_version": "1.5.0",
      "_view_name": "HTMLView",
      "description": "",
      "description_tooltip": null,
      "layout": "IPY_MODEL_c574ca5744b54cc69bd9efc8a7d8dfb2",
      "placeholder": "​",
      "style": "IPY_MODEL_60a234df13eb4d3387484947bd593186",
      "value": " 142k/? [00:00&lt;00:00, 3.34MB/s]"
     }
    },
    "c574ca5744b54cc69bd9efc8a7d8dfb2": {
     "model_module": "@jupyter-widgets/base",
     "model_module_version": "1.2.0",
     "model_name": "LayoutModel",
     "state": {
      "_model_module": "@jupyter-widgets/base",
      "_model_module_version": "1.2.0",
      "_model_name": "LayoutModel",
      "_view_count": null,
      "_view_module": "@jupyter-widgets/base",
      "_view_module_version": "1.2.0",
      "_view_name": "LayoutView",
      "align_content": null,
      "align_items": null,
      "align_self": null,
      "border": null,
      "bottom": null,
      "display": null,
      "flex": null,
      "flex_flow": null,
      "grid_area": null,
      "grid_auto_columns": null,
      "grid_auto_flow": null,
      "grid_auto_rows": null,
      "grid_column": null,
      "grid_gap": null,
      "grid_row": null,
      "grid_template_areas": null,
      "grid_template_columns": null,
      "grid_template_rows": null,
      "height": null,
      "justify_content": null,
      "justify_items": null,
      "left": null,
      "margin": null,
      "max_height": null,
      "max_width": null,
      "min_height": null,
      "min_width": null,
      "object_fit": null,
      "object_position": null,
      "order": null,
      "overflow": null,
      "overflow_x": null,
      "overflow_y": null,
      "padding": null,
      "right": null,
      "top": null,
      "visibility": null,
      "width": null
     }
    }
   }
  }
 },
 "nbformat": 4,
 "nbformat_minor": 1
}
